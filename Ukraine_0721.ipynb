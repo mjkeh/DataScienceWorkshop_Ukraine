{
 "cells": [
  {
   "cell_type": "markdown",
   "id": "38102d51",
   "metadata": {},
   "source": [
    "# Data Science for Social Justice Workshop Group Project: Ukraine\n"
   ]
  },
  {
   "cell_type": "markdown",
   "id": "da1b7dea",
   "metadata": {},
   "source": [
    "## 1. Preprocessing"
   ]
  },
  {
   "cell_type": "markdown",
   "id": "b8addebb",
   "metadata": {},
   "source": [
    "### 1-1. Importing Data with pandas"
   ]
  },
  {
   "cell_type": "code",
   "execution_count": 1,
   "id": "e4b6d530-f95c-40f1-8524-9c15d99a86cc",
   "metadata": {
    "scrolled": true
   },
   "outputs": [
    {
     "data": {
      "text/plain": [
       "'/home/jovyan/Data-Science-Social-Justice'"
      ]
     },
     "execution_count": 1,
     "metadata": {},
     "output_type": "execute_result"
    }
   ],
   "source": [
    "%pwd ##it will be different for all"
   ]
  },
  {
   "cell_type": "code",
   "execution_count": 2,
   "id": "fbafc694-fd59-40ee-af9c-f872850acc51",
   "metadata": {},
   "outputs": [],
   "source": [
    "import os"
   ]
  },
  {
   "cell_type": "code",
   "execution_count": 3,
   "id": "d7d422be",
   "metadata": {},
   "outputs": [],
   "source": [
    "os.chdir('data') ##it will be different for all"
   ]
  },
  {
   "cell_type": "code",
   "execution_count": 4,
   "id": "0f92a399-4457-4235-a939-2981f2d77d3d",
   "metadata": {},
   "outputs": [],
   "source": [
    "import pandas as pd"
   ]
  },
  {
   "cell_type": "code",
   "execution_count": 5,
   "id": "7167182c-c93f-4ce5-b175-f9f25142ddd8",
   "metadata": {},
   "outputs": [],
   "source": [
    "df = pd.read_csv('submissions.csv')"
   ]
  },
  {
   "cell_type": "code",
   "execution_count": 6,
   "id": "90c57649-1694-453d-9f34-3512c7a49618",
   "metadata": {},
   "outputs": [
    {
     "data": {
      "text/plain": [
       "(88764, 18)"
      ]
     },
     "execution_count": 6,
     "metadata": {},
     "output_type": "execute_result"
    }
   ],
   "source": [
    "df.shape"
   ]
  },
  {
   "cell_type": "code",
   "execution_count": 7,
   "id": "3649eed0-ca67-4470-93a7-0d1bf100210f",
   "metadata": {},
   "outputs": [
    {
     "data": {
      "text/plain": [
       "['idint',\n",
       " 'idstr',\n",
       " 'created',\n",
       " 'self',\n",
       " 'nsfw',\n",
       " 'author',\n",
       " 'title',\n",
       " 'url',\n",
       " 'selftext',\n",
       " 'score',\n",
       " 'subreddit',\n",
       " 'distinguish',\n",
       " 'textlen',\n",
       " 'num_comments',\n",
       " 'flair_text',\n",
       " 'flair_css_class',\n",
       " 'augmented_at',\n",
       " 'augmented_count']"
      ]
     },
     "execution_count": 7,
     "metadata": {},
     "output_type": "execute_result"
    }
   ],
   "source": [
    "# 18 variables\n",
    "list (df)"
   ]
  },
  {
   "cell_type": "code",
   "execution_count": 8,
   "id": "00e4b1c6-6236-4b12-8e6d-e6bdeecb9c31",
   "metadata": {},
   "outputs": [
    {
     "data": {
      "text/html": [
       "<div>\n",
       "<style scoped>\n",
       "    .dataframe tbody tr th:only-of-type {\n",
       "        vertical-align: middle;\n",
       "    }\n",
       "\n",
       "    .dataframe tbody tr th {\n",
       "        vertical-align: top;\n",
       "    }\n",
       "\n",
       "    .dataframe thead th {\n",
       "        text-align: right;\n",
       "    }\n",
       "</style>\n",
       "<table border=\"1\" class=\"dataframe\">\n",
       "  <thead>\n",
       "    <tr style=\"text-align: right;\">\n",
       "      <th></th>\n",
       "      <th>idint</th>\n",
       "      <th>idstr</th>\n",
       "      <th>created</th>\n",
       "      <th>self</th>\n",
       "      <th>nsfw</th>\n",
       "      <th>author</th>\n",
       "      <th>title</th>\n",
       "      <th>url</th>\n",
       "      <th>selftext</th>\n",
       "      <th>score</th>\n",
       "      <th>subreddit</th>\n",
       "      <th>distinguish</th>\n",
       "      <th>textlen</th>\n",
       "      <th>num_comments</th>\n",
       "      <th>flair_text</th>\n",
       "      <th>flair_css_class</th>\n",
       "      <th>augmented_at</th>\n",
       "      <th>augmented_count</th>\n",
       "    </tr>\n",
       "  </thead>\n",
       "  <tbody>\n",
       "    <tr>\n",
       "      <th>0</th>\n",
       "      <td>13054757</td>\n",
       "      <td>t3_7rt45</td>\n",
       "      <td>1232688225</td>\n",
       "      <td>0</td>\n",
       "      <td>0</td>\n",
       "      <td>nikitos2009</td>\n",
       "      <td>Лучший политический ресурс в Украине</td>\n",
       "      <td>http://pepper.at.ua/</td>\n",
       "      <td>NaN</td>\n",
       "      <td>0</td>\n",
       "      <td>ukraine</td>\n",
       "      <td>NaN</td>\n",
       "      <td>0</td>\n",
       "      <td>0</td>\n",
       "      <td>NaN</td>\n",
       "      <td>NaN</td>\n",
       "      <td>NaN</td>\n",
       "      <td>NaN</td>\n",
       "    </tr>\n",
       "    <tr>\n",
       "      <th>1</th>\n",
       "      <td>13072291</td>\n",
       "      <td>t3_7s6n7</td>\n",
       "      <td>1232834472</td>\n",
       "      <td>1</td>\n",
       "      <td>0</td>\n",
       "      <td>OlehM</td>\n",
       "      <td>Dr</td>\n",
       "      <td>NaN</td>\n",
       "      <td>[removed]</td>\n",
       "      <td>1</td>\n",
       "      <td>ukraine</td>\n",
       "      <td>NaN</td>\n",
       "      <td>9</td>\n",
       "      <td>0</td>\n",
       "      <td>NaN</td>\n",
       "      <td>NaN</td>\n",
       "      <td>NaN</td>\n",
       "      <td>NaN</td>\n",
       "    </tr>\n",
       "    <tr>\n",
       "      <th>2</th>\n",
       "      <td>13093545</td>\n",
       "      <td>t3_7sn1l</td>\n",
       "      <td>1233019738</td>\n",
       "      <td>0</td>\n",
       "      <td>0</td>\n",
       "      <td>nikitos2009</td>\n",
       "      <td>Основы гармонии украинства с московством</td>\n",
       "      <td>http://pepper.at.ua/publ/8-1-0-30</td>\n",
       "      <td>NaN</td>\n",
       "      <td>1</td>\n",
       "      <td>ukraine</td>\n",
       "      <td>NaN</td>\n",
       "      <td>0</td>\n",
       "      <td>0</td>\n",
       "      <td>NaN</td>\n",
       "      <td>NaN</td>\n",
       "      <td>NaN</td>\n",
       "      <td>NaN</td>\n",
       "    </tr>\n",
       "    <tr>\n",
       "      <th>3</th>\n",
       "      <td>13118896</td>\n",
       "      <td>t3_7t6ls</td>\n",
       "      <td>1233182615</td>\n",
       "      <td>0</td>\n",
       "      <td>0</td>\n",
       "      <td>nikitos2009</td>\n",
       "      <td>Служба Бандеризации Украины выясняет кто убил ...</td>\n",
       "      <td>http://pepper.at.ua/publ/8-1-0-34</td>\n",
       "      <td>NaN</td>\n",
       "      <td>1</td>\n",
       "      <td>ukraine</td>\n",
       "      <td>NaN</td>\n",
       "      <td>0</td>\n",
       "      <td>0</td>\n",
       "      <td>NaN</td>\n",
       "      <td>NaN</td>\n",
       "      <td>NaN</td>\n",
       "      <td>NaN</td>\n",
       "    </tr>\n",
       "    <tr>\n",
       "      <th>4</th>\n",
       "      <td>13238506</td>\n",
       "      <td>t3_7vqwa</td>\n",
       "      <td>1234081946</td>\n",
       "      <td>0</td>\n",
       "      <td>0</td>\n",
       "      <td>ger4antche</td>\n",
       "      <td>amzek.blogspot.com</td>\n",
       "      <td>http://amzek.blogspot.com</td>\n",
       "      <td>NaN</td>\n",
       "      <td>0</td>\n",
       "      <td>ukraine</td>\n",
       "      <td>NaN</td>\n",
       "      <td>0</td>\n",
       "      <td>1</td>\n",
       "      <td>NaN</td>\n",
       "      <td>NaN</td>\n",
       "      <td>NaN</td>\n",
       "      <td>NaN</td>\n",
       "    </tr>\n",
       "  </tbody>\n",
       "</table>\n",
       "</div>"
      ],
      "text/plain": [
       "      idint     idstr     created  self  nsfw       author  \\\n",
       "0  13054757  t3_7rt45  1232688225     0     0  nikitos2009   \n",
       "1  13072291  t3_7s6n7  1232834472     1     0        OlehM   \n",
       "2  13093545  t3_7sn1l  1233019738     0     0  nikitos2009   \n",
       "3  13118896  t3_7t6ls  1233182615     0     0  nikitos2009   \n",
       "4  13238506  t3_7vqwa  1234081946     0     0   ger4antche   \n",
       "\n",
       "                                               title  \\\n",
       "0               Лучший политический ресурс в Украине   \n",
       "1                                                 Dr   \n",
       "2           Основы гармонии украинства с московством   \n",
       "3  Служба Бандеризации Украины выясняет кто убил ...   \n",
       "4                                 amzek.blogspot.com   \n",
       "\n",
       "                                 url   selftext  score subreddit distinguish  \\\n",
       "0               http://pepper.at.ua/        NaN      0   ukraine         NaN   \n",
       "1                                NaN  [removed]      1   ukraine         NaN   \n",
       "2  http://pepper.at.ua/publ/8-1-0-30        NaN      1   ukraine         NaN   \n",
       "3  http://pepper.at.ua/publ/8-1-0-34        NaN      1   ukraine         NaN   \n",
       "4          http://amzek.blogspot.com        NaN      0   ukraine         NaN   \n",
       "\n",
       "   textlen  num_comments flair_text flair_css_class  augmented_at  \\\n",
       "0        0             0        NaN             NaN           NaN   \n",
       "1        9             0        NaN             NaN           NaN   \n",
       "2        0             0        NaN             NaN           NaN   \n",
       "3        0             0        NaN             NaN           NaN   \n",
       "4        0             1        NaN             NaN           NaN   \n",
       "\n",
       "   augmented_count  \n",
       "0              NaN  \n",
       "1              NaN  \n",
       "2              NaN  \n",
       "3              NaN  \n",
       "4              NaN  "
      ]
     },
     "execution_count": 8,
     "metadata": {},
     "output_type": "execute_result"
    }
   ],
   "source": [
    "df.head()"
   ]
  },
  {
   "cell_type": "markdown",
   "id": "e8a3a019",
   "metadata": {},
   "source": [
    "### 1-2. Dropping Columns and Missing Values"
   ]
  },
  {
   "cell_type": "code",
   "execution_count": 9,
   "id": "6020d763-032a-488b-93ee-2c9b767bdb5d",
   "metadata": {},
   "outputs": [
    {
     "data": {
      "text/html": [
       "<div>\n",
       "<style scoped>\n",
       "    .dataframe tbody tr th:only-of-type {\n",
       "        vertical-align: middle;\n",
       "    }\n",
       "\n",
       "    .dataframe tbody tr th {\n",
       "        vertical-align: top;\n",
       "    }\n",
       "\n",
       "    .dataframe thead th {\n",
       "        text-align: right;\n",
       "    }\n",
       "</style>\n",
       "<table border=\"1\" class=\"dataframe\">\n",
       "  <thead>\n",
       "    <tr style=\"text-align: right;\">\n",
       "      <th></th>\n",
       "      <th>idint</th>\n",
       "      <th>idstr</th>\n",
       "      <th>created</th>\n",
       "      <th>nsfw</th>\n",
       "      <th>author</th>\n",
       "      <th>title</th>\n",
       "      <th>selftext</th>\n",
       "      <th>score</th>\n",
       "      <th>distinguish</th>\n",
       "      <th>textlen</th>\n",
       "      <th>num_comments</th>\n",
       "      <th>flair_text</th>\n",
       "      <th>flair_css_class</th>\n",
       "    </tr>\n",
       "  </thead>\n",
       "  <tbody>\n",
       "    <tr>\n",
       "      <th>0</th>\n",
       "      <td>13054757</td>\n",
       "      <td>t3_7rt45</td>\n",
       "      <td>1232688225</td>\n",
       "      <td>0</td>\n",
       "      <td>nikitos2009</td>\n",
       "      <td>Лучший политический ресурс в Украине</td>\n",
       "      <td>NaN</td>\n",
       "      <td>0</td>\n",
       "      <td>NaN</td>\n",
       "      <td>0</td>\n",
       "      <td>0</td>\n",
       "      <td>NaN</td>\n",
       "      <td>NaN</td>\n",
       "    </tr>\n",
       "    <tr>\n",
       "      <th>1</th>\n",
       "      <td>13072291</td>\n",
       "      <td>t3_7s6n7</td>\n",
       "      <td>1232834472</td>\n",
       "      <td>0</td>\n",
       "      <td>OlehM</td>\n",
       "      <td>Dr</td>\n",
       "      <td>[removed]</td>\n",
       "      <td>1</td>\n",
       "      <td>NaN</td>\n",
       "      <td>9</td>\n",
       "      <td>0</td>\n",
       "      <td>NaN</td>\n",
       "      <td>NaN</td>\n",
       "    </tr>\n",
       "    <tr>\n",
       "      <th>2</th>\n",
       "      <td>13093545</td>\n",
       "      <td>t3_7sn1l</td>\n",
       "      <td>1233019738</td>\n",
       "      <td>0</td>\n",
       "      <td>nikitos2009</td>\n",
       "      <td>Основы гармонии украинства с московством</td>\n",
       "      <td>NaN</td>\n",
       "      <td>1</td>\n",
       "      <td>NaN</td>\n",
       "      <td>0</td>\n",
       "      <td>0</td>\n",
       "      <td>NaN</td>\n",
       "      <td>NaN</td>\n",
       "    </tr>\n",
       "    <tr>\n",
       "      <th>3</th>\n",
       "      <td>13118896</td>\n",
       "      <td>t3_7t6ls</td>\n",
       "      <td>1233182615</td>\n",
       "      <td>0</td>\n",
       "      <td>nikitos2009</td>\n",
       "      <td>Служба Бандеризации Украины выясняет кто убил ...</td>\n",
       "      <td>NaN</td>\n",
       "      <td>1</td>\n",
       "      <td>NaN</td>\n",
       "      <td>0</td>\n",
       "      <td>0</td>\n",
       "      <td>NaN</td>\n",
       "      <td>NaN</td>\n",
       "    </tr>\n",
       "    <tr>\n",
       "      <th>4</th>\n",
       "      <td>13238506</td>\n",
       "      <td>t3_7vqwa</td>\n",
       "      <td>1234081946</td>\n",
       "      <td>0</td>\n",
       "      <td>ger4antche</td>\n",
       "      <td>amzek.blogspot.com</td>\n",
       "      <td>NaN</td>\n",
       "      <td>0</td>\n",
       "      <td>NaN</td>\n",
       "      <td>0</td>\n",
       "      <td>1</td>\n",
       "      <td>NaN</td>\n",
       "      <td>NaN</td>\n",
       "    </tr>\n",
       "  </tbody>\n",
       "</table>\n",
       "</div>"
      ],
      "text/plain": [
       "      idint     idstr     created  nsfw       author  \\\n",
       "0  13054757  t3_7rt45  1232688225     0  nikitos2009   \n",
       "1  13072291  t3_7s6n7  1232834472     0        OlehM   \n",
       "2  13093545  t3_7sn1l  1233019738     0  nikitos2009   \n",
       "3  13118896  t3_7t6ls  1233182615     0  nikitos2009   \n",
       "4  13238506  t3_7vqwa  1234081946     0   ger4antche   \n",
       "\n",
       "                                               title   selftext  score  \\\n",
       "0               Лучший политический ресурс в Украине        NaN      0   \n",
       "1                                                 Dr  [removed]      1   \n",
       "2           Основы гармонии украинства с московством        NaN      1   \n",
       "3  Служба Бандеризации Украины выясняет кто убил ...        NaN      1   \n",
       "4                                 amzek.blogspot.com        NaN      0   \n",
       "\n",
       "  distinguish  textlen  num_comments flair_text flair_css_class  \n",
       "0         NaN        0             0        NaN             NaN  \n",
       "1         NaN        9             0        NaN             NaN  \n",
       "2         NaN        0             0        NaN             NaN  \n",
       "3         NaN        0             0        NaN             NaN  \n",
       "4         NaN        0             1        NaN             NaN  "
      ]
     },
     "execution_count": 9,
     "metadata": {},
     "output_type": "execute_result"
    }
   ],
   "source": [
    "##remove some columns that we are not going to use\n",
    "\n",
    "df = df.drop(['self', 'url', 'subreddit', 'augmented_at', 'augmented_count'], axis=1)\n",
    "df.head()"
   ]
  },
  {
   "cell_type": "code",
   "execution_count": 10,
   "id": "f58de402-9727-4941-8f00-769cdc4b8699",
   "metadata": {},
   "outputs": [
    {
     "data": {
      "text/plain": [
       "(73414, 13)"
      ]
     },
     "execution_count": 10,
     "metadata": {},
     "output_type": "execute_result"
    }
   ],
   "source": [
    "##get rid of posts that have been deleted/removed\n",
    "\n",
    "df = df.loc[~df['selftext'].isin(['[removed]', '[deleted]' ]),:]\n",
    "df.shape"
   ]
  },
  {
   "cell_type": "code",
   "execution_count": 11,
   "id": "ce43e9a1-be78-413f-b7a0-05835e4bce69",
   "metadata": {},
   "outputs": [
    {
     "data": {
      "text/plain": [
       "(16665, 13)"
      ]
     },
     "execution_count": 11,
     "metadata": {},
     "output_type": "execute_result"
    }
   ],
   "source": [
    "## drop null values\n",
    "df = df.dropna(subset=['selftext'])\n",
    "df.shape"
   ]
  },
  {
   "cell_type": "code",
   "execution_count": 12,
   "id": "3b517ff5",
   "metadata": {},
   "outputs": [
    {
     "data": {
      "text/html": [
       "<div>\n",
       "<style scoped>\n",
       "    .dataframe tbody tr th:only-of-type {\n",
       "        vertical-align: middle;\n",
       "    }\n",
       "\n",
       "    .dataframe tbody tr th {\n",
       "        vertical-align: top;\n",
       "    }\n",
       "\n",
       "    .dataframe thead th {\n",
       "        text-align: right;\n",
       "    }\n",
       "</style>\n",
       "<table border=\"1\" class=\"dataframe\">\n",
       "  <thead>\n",
       "    <tr style=\"text-align: right;\">\n",
       "      <th></th>\n",
       "      <th>idint</th>\n",
       "      <th>idstr</th>\n",
       "      <th>created</th>\n",
       "      <th>nsfw</th>\n",
       "      <th>author</th>\n",
       "      <th>title</th>\n",
       "      <th>selftext</th>\n",
       "      <th>score</th>\n",
       "      <th>distinguish</th>\n",
       "      <th>textlen</th>\n",
       "      <th>num_comments</th>\n",
       "      <th>flair_text</th>\n",
       "      <th>flair_css_class</th>\n",
       "    </tr>\n",
       "  </thead>\n",
       "  <tbody>\n",
       "    <tr>\n",
       "      <th>35</th>\n",
       "      <td>26781072</td>\n",
       "      <td>t3_fy0eo</td>\n",
       "      <td>1299351508</td>\n",
       "      <td>0</td>\n",
       "      <td>margys</td>\n",
       "      <td>Мам, а когда я выросту, ты постареешь?...</td>\n",
       "      <td>Сегодня моя золотая птичка снова задалась вопр...</td>\n",
       "      <td>0</td>\n",
       "      <td>NaN</td>\n",
       "      <td>204</td>\n",
       "      <td>0</td>\n",
       "      <td>NaN</td>\n",
       "      <td>NaN</td>\n",
       "    </tr>\n",
       "    <tr>\n",
       "      <th>36</th>\n",
       "      <td>26795140</td>\n",
       "      <td>t3_fyb9g</td>\n",
       "      <td>1299397232</td>\n",
       "      <td>0</td>\n",
       "      <td>pozhaluista</td>\n",
       "      <td>Does the /r/ Ukraine have anyone here? Hello?</td>\n",
       "      <td>Seems quiet.</td>\n",
       "      <td>10</td>\n",
       "      <td>NaN</td>\n",
       "      <td>13</td>\n",
       "      <td>24</td>\n",
       "      <td>NaN</td>\n",
       "      <td>NaN</td>\n",
       "    </tr>\n",
       "    <tr>\n",
       "      <th>50</th>\n",
       "      <td>29482904</td>\n",
       "      <td>t3_hjx5k</td>\n",
       "      <td>1306343697</td>\n",
       "      <td>0</td>\n",
       "      <td>visarun</td>\n",
       "      <td>Does immigration in Simferpol check whether th...</td>\n",
       "      <td>I have stayed 70 days and then 80 days out of ...</td>\n",
       "      <td>0</td>\n",
       "      <td>NaN</td>\n",
       "      <td>223</td>\n",
       "      <td>1</td>\n",
       "      <td>NaN</td>\n",
       "      <td>NaN</td>\n",
       "    </tr>\n",
       "    <tr>\n",
       "      <th>51</th>\n",
       "      <td>29608809</td>\n",
       "      <td>t3_hmmax</td>\n",
       "      <td>1306639850</td>\n",
       "      <td>0</td>\n",
       "      <td>[deleted]</td>\n",
       "      <td>Tickets to Ukraine from Seoul?</td>\n",
       "      <td>Hi everyone.  I'd like to visit Ukraine for th...</td>\n",
       "      <td>2</td>\n",
       "      <td>NaN</td>\n",
       "      <td>281</td>\n",
       "      <td>0</td>\n",
       "      <td>NaN</td>\n",
       "      <td>NaN</td>\n",
       "    </tr>\n",
       "    <tr>\n",
       "      <th>62</th>\n",
       "      <td>33263382</td>\n",
       "      <td>t3_jsy6u</td>\n",
       "      <td>1314200067</td>\n",
       "      <td>0</td>\n",
       "      <td>lsakbaetle3r9</td>\n",
       "      <td>looking for someone</td>\n",
       "      <td>had a friend who moved to my town ~4-5 years a...</td>\n",
       "      <td>3</td>\n",
       "      <td>NaN</td>\n",
       "      <td>386</td>\n",
       "      <td>1</td>\n",
       "      <td>NaN</td>\n",
       "      <td>NaN</td>\n",
       "    </tr>\n",
       "  </tbody>\n",
       "</table>\n",
       "</div>"
      ],
      "text/plain": [
       "       idint     idstr     created  nsfw         author  \\\n",
       "35  26781072  t3_fy0eo  1299351508     0         margys   \n",
       "36  26795140  t3_fyb9g  1299397232     0    pozhaluista   \n",
       "50  29482904  t3_hjx5k  1306343697     0        visarun   \n",
       "51  29608809  t3_hmmax  1306639850     0      [deleted]   \n",
       "62  33263382  t3_jsy6u  1314200067     0  lsakbaetle3r9   \n",
       "\n",
       "                                                title  \\\n",
       "35         Мам, а когда я выросту, ты постареешь?...    \n",
       "36      Does the /r/ Ukraine have anyone here? Hello?   \n",
       "50  Does immigration in Simferpol check whether th...   \n",
       "51                     Tickets to Ukraine from Seoul?   \n",
       "62                                looking for someone   \n",
       "\n",
       "                                             selftext  score distinguish  \\\n",
       "35  Сегодня моя золотая птичка снова задалась вопр...      0         NaN   \n",
       "36                                      Seems quiet.      10         NaN   \n",
       "50  I have stayed 70 days and then 80 days out of ...      0         NaN   \n",
       "51  Hi everyone.  I'd like to visit Ukraine for th...      2         NaN   \n",
       "62  had a friend who moved to my town ~4-5 years a...      3         NaN   \n",
       "\n",
       "    textlen  num_comments flair_text flair_css_class  \n",
       "35      204             0        NaN             NaN  \n",
       "36       13            24        NaN             NaN  \n",
       "50      223             1        NaN             NaN  \n",
       "51      281             0        NaN             NaN  \n",
       "62      386             1        NaN             NaN  "
      ]
     },
     "execution_count": 12,
     "metadata": {},
     "output_type": "execute_result"
    }
   ],
   "source": [
    "df.head()"
   ]
  },
  {
   "cell_type": "code",
   "execution_count": 13,
   "id": "f126981c",
   "metadata": {},
   "outputs": [],
   "source": [
    "##remove the rows with non-enlish text\n",
    "##!pip install langdetect\n",
    "##from langdetect import detect\n",
    "##df['detect'] = detect(str(df['selftext']))"
   ]
  },
  {
   "cell_type": "code",
   "execution_count": 14,
   "id": "885b7ff2",
   "metadata": {},
   "outputs": [],
   "source": [
    "##df.head()"
   ]
  },
  {
   "cell_type": "code",
   "execution_count": 15,
   "id": "35800ab1",
   "metadata": {},
   "outputs": [],
   "source": [
    "##df = df[df['detect'] == 'en']"
   ]
  },
  {
   "cell_type": "markdown",
   "id": "b174a7b4",
   "metadata": {},
   "source": [
    "### MJ: Q. The command above did not give correct results e.g., the first row is in Russian, but the detect column says it is English. It is why the dataframe still have 16665 rows. So I tried the command below, but encountered error. I just moved on to next steps. We can apply the language detection codes later and run the notebook again:)\n"
   ]
  },
  {
   "cell_type": "code",
   "execution_count": 16,
   "id": "7d96d51e",
   "metadata": {},
   "outputs": [],
   "source": [
    "##df['detect2'] = df['selftext'].apply(detect) "
   ]
  },
  {
   "cell_type": "code",
   "execution_count": 17,
   "id": "01cfd020-a628-46a8-898f-8291adeb63bd",
   "metadata": {},
   "outputs": [],
   "source": [
    "df = df[df['selftext'].map(lambda x: x.isascii())]"
   ]
  },
  {
   "cell_type": "code",
   "execution_count": 18,
   "id": "f9ad10d9-a4cf-43c0-b454-4819d9d6a091",
   "metadata": {},
   "outputs": [
    {
     "data": {
      "text/html": [
       "<div>\n",
       "<style scoped>\n",
       "    .dataframe tbody tr th:only-of-type {\n",
       "        vertical-align: middle;\n",
       "    }\n",
       "\n",
       "    .dataframe tbody tr th {\n",
       "        vertical-align: top;\n",
       "    }\n",
       "\n",
       "    .dataframe thead th {\n",
       "        text-align: right;\n",
       "    }\n",
       "</style>\n",
       "<table border=\"1\" class=\"dataframe\">\n",
       "  <thead>\n",
       "    <tr style=\"text-align: right;\">\n",
       "      <th></th>\n",
       "      <th>idint</th>\n",
       "      <th>idstr</th>\n",
       "      <th>created</th>\n",
       "      <th>nsfw</th>\n",
       "      <th>author</th>\n",
       "      <th>title</th>\n",
       "      <th>selftext</th>\n",
       "      <th>score</th>\n",
       "      <th>distinguish</th>\n",
       "      <th>textlen</th>\n",
       "      <th>num_comments</th>\n",
       "      <th>flair_text</th>\n",
       "      <th>flair_css_class</th>\n",
       "    </tr>\n",
       "  </thead>\n",
       "  <tbody>\n",
       "    <tr>\n",
       "      <th>36</th>\n",
       "      <td>26795140</td>\n",
       "      <td>t3_fyb9g</td>\n",
       "      <td>1299397232</td>\n",
       "      <td>0</td>\n",
       "      <td>pozhaluista</td>\n",
       "      <td>Does the /r/ Ukraine have anyone here? Hello?</td>\n",
       "      <td>Seems quiet.</td>\n",
       "      <td>10</td>\n",
       "      <td>NaN</td>\n",
       "      <td>13</td>\n",
       "      <td>24</td>\n",
       "      <td>NaN</td>\n",
       "      <td>NaN</td>\n",
       "    </tr>\n",
       "    <tr>\n",
       "      <th>50</th>\n",
       "      <td>29482904</td>\n",
       "      <td>t3_hjx5k</td>\n",
       "      <td>1306343697</td>\n",
       "      <td>0</td>\n",
       "      <td>visarun</td>\n",
       "      <td>Does immigration in Simferpol check whether th...</td>\n",
       "      <td>I have stayed 70 days and then 80 days out of ...</td>\n",
       "      <td>0</td>\n",
       "      <td>NaN</td>\n",
       "      <td>223</td>\n",
       "      <td>1</td>\n",
       "      <td>NaN</td>\n",
       "      <td>NaN</td>\n",
       "    </tr>\n",
       "    <tr>\n",
       "      <th>51</th>\n",
       "      <td>29608809</td>\n",
       "      <td>t3_hmmax</td>\n",
       "      <td>1306639850</td>\n",
       "      <td>0</td>\n",
       "      <td>[deleted]</td>\n",
       "      <td>Tickets to Ukraine from Seoul?</td>\n",
       "      <td>Hi everyone.  I'd like to visit Ukraine for th...</td>\n",
       "      <td>2</td>\n",
       "      <td>NaN</td>\n",
       "      <td>281</td>\n",
       "      <td>0</td>\n",
       "      <td>NaN</td>\n",
       "      <td>NaN</td>\n",
       "    </tr>\n",
       "    <tr>\n",
       "      <th>62</th>\n",
       "      <td>33263382</td>\n",
       "      <td>t3_jsy6u</td>\n",
       "      <td>1314200067</td>\n",
       "      <td>0</td>\n",
       "      <td>lsakbaetle3r9</td>\n",
       "      <td>looking for someone</td>\n",
       "      <td>had a friend who moved to my town ~4-5 years a...</td>\n",
       "      <td>3</td>\n",
       "      <td>NaN</td>\n",
       "      <td>386</td>\n",
       "      <td>1</td>\n",
       "      <td>NaN</td>\n",
       "      <td>NaN</td>\n",
       "    </tr>\n",
       "    <tr>\n",
       "      <th>64</th>\n",
       "      <td>34553372</td>\n",
       "      <td>t3_kkljw</td>\n",
       "      <td>1316449514</td>\n",
       "      <td>0</td>\n",
       "      <td>[deleted]</td>\n",
       "      <td>[Ukraine] Can you tell me what my surname means?</td>\n",
       "      <td>Hey /r/ukraine!  I am trying to connect with m...</td>\n",
       "      <td>6</td>\n",
       "      <td>NaN</td>\n",
       "      <td>381</td>\n",
       "      <td>17</td>\n",
       "      <td>NaN</td>\n",
       "      <td>NaN</td>\n",
       "    </tr>\n",
       "  </tbody>\n",
       "</table>\n",
       "</div>"
      ],
      "text/plain": [
       "       idint     idstr     created  nsfw         author  \\\n",
       "36  26795140  t3_fyb9g  1299397232     0    pozhaluista   \n",
       "50  29482904  t3_hjx5k  1306343697     0        visarun   \n",
       "51  29608809  t3_hmmax  1306639850     0      [deleted]   \n",
       "62  33263382  t3_jsy6u  1314200067     0  lsakbaetle3r9   \n",
       "64  34553372  t3_kkljw  1316449514     0      [deleted]   \n",
       "\n",
       "                                                title  \\\n",
       "36      Does the /r/ Ukraine have anyone here? Hello?   \n",
       "50  Does immigration in Simferpol check whether th...   \n",
       "51                     Tickets to Ukraine from Seoul?   \n",
       "62                                looking for someone   \n",
       "64   [Ukraine] Can you tell me what my surname means?   \n",
       "\n",
       "                                             selftext  score distinguish  \\\n",
       "36                                      Seems quiet.      10         NaN   \n",
       "50  I have stayed 70 days and then 80 days out of ...      0         NaN   \n",
       "51  Hi everyone.  I'd like to visit Ukraine for th...      2         NaN   \n",
       "62  had a friend who moved to my town ~4-5 years a...      3         NaN   \n",
       "64  Hey /r/ukraine!  I am trying to connect with m...      6         NaN   \n",
       "\n",
       "    textlen  num_comments flair_text flair_css_class  \n",
       "36       13            24        NaN             NaN  \n",
       "50      223             1        NaN             NaN  \n",
       "51      281             0        NaN             NaN  \n",
       "62      386             1        NaN             NaN  \n",
       "64      381            17        NaN             NaN  "
      ]
     },
     "execution_count": 18,
     "metadata": {},
     "output_type": "execute_result"
    }
   ],
   "source": [
    "df.head()"
   ]
  },
  {
   "cell_type": "code",
   "execution_count": 19,
   "id": "342e380c-c269-4b46-8fbb-50aa6a57e5e8",
   "metadata": {},
   "outputs": [
    {
     "data": {
      "text/plain": [
       "(12421, 13)"
      ]
     },
     "execution_count": 19,
     "metadata": {},
     "output_type": "execute_result"
    }
   ],
   "source": [
    "df.shape"
   ]
  },
  {
   "cell_type": "code",
   "execution_count": 20,
   "id": "48bda116-f08a-4504-807e-d8244e944648",
   "metadata": {},
   "outputs": [
    {
     "name": "stdout",
     "output_type": "stream",
     "text": [
      "8723\n"
     ]
    }
   ],
   "source": [
    "#number of unique users\n",
    "print (df.iloc[:,4].nunique())\n",
    "\n"
   ]
  },
  {
   "cell_type": "code",
   "execution_count": 21,
   "id": "9e48fc0e-abdc-469b-877f-0d36c138036b",
   "metadata": {},
   "outputs": [],
   "source": [
    "#frequency by user\n",
    "frequency = df['author'].value_counts()"
   ]
  },
  {
   "cell_type": "code",
   "execution_count": 22,
   "id": "7d1f5755-2e69-4d14-aed3-ecb063f3bb9a",
   "metadata": {},
   "outputs": [
    {
     "data": {
      "text/plain": [
       "[deleted]               167\n",
       "iceman530                33\n",
       "TheRealMykola            32\n",
       "redpillbjj               30\n",
       "unknown_wtc              27\n",
       "arleitiss                26\n",
       "shadowb3astxx            25\n",
       "snaxks1                  25\n",
       "tgromy                   24\n",
       "Motor-Ad-8858            22\n",
       "koyanis                  21\n",
       "Accomplished-Car-779     20\n",
       "ammofordays              20\n",
       "JupiterQuirinus          20\n",
       "jediprime74              20\n",
       "dmytronalyvaiko          18\n",
       "prayyboii                18\n",
       "eff-snarf                17\n",
       "globustr                 17\n",
       "user00067                16\n",
       "EoghanMuzyka             16\n",
       "samuraipenguin123        16\n",
       "Jesuismieux412           15\n",
       "Notagelding              15\n",
       "ImPlayingTheSims         15\n",
       "Key_Brother              14\n",
       "FenixWater75             14\n",
       "Space_Lion2077           14\n",
       "Futurist110              13\n",
       "h6story                  13\n",
       "AllAboutRussia           13\n",
       "noriumiego               13\n",
       "MerryPrankster1967       13\n",
       "cccbig                   12\n",
       "ChriskiV                 12\n",
       "wogwe                    12\n",
       "Nikarwong                12\n",
       "DrDoominstien            12\n",
       "Moe_Szyslak1510          12\n",
       "DacoMaximus              12\n",
       "super-gill               11\n",
       "dqngqlqk                 11\n",
       "1whatabeautifulday       11\n",
       "Breech_Loader            11\n",
       "PabloFlexscobar          11\n",
       "Gold-and-Glory           10\n",
       "Deadgoroth               10\n",
       "Otherwise-Tiger3359      10\n",
       "welshy0204               10\n",
       "Gombacska                10\n",
       "Name: author, dtype: int64"
      ]
     },
     "execution_count": 22,
     "metadata": {},
     "output_type": "execute_result"
    }
   ],
   "source": [
    "#top 50\n",
    "frequency.head(50)\n"
   ]
  },
  {
   "cell_type": "code",
   "execution_count": 23,
   "id": "0418adb5-23ad-4342-b487-5ceff3fca2f1",
   "metadata": {},
   "outputs": [
    {
     "data": {
      "text/plain": [
       "1.4239367190186862"
      ]
     },
     "execution_count": 23,
     "metadata": {},
     "output_type": "execute_result"
    }
   ],
   "source": [
    "#mean \n",
    "frequency.mean()"
   ]
  },
  {
   "cell_type": "code",
   "execution_count": 24,
   "id": "5ca9bce9-9460-442c-be47-af659dc458f6",
   "metadata": {},
   "outputs": [
    {
     "data": {
      "text/plain": [
       "1.4239367190186862"
      ]
     },
     "execution_count": 24,
     "metadata": {},
     "output_type": "execute_result"
    }
   ],
   "source": [
    "##check\n",
    "12421/8723"
   ]
  },
  {
   "cell_type": "code",
   "execution_count": 25,
   "id": "a467894d-e4ed-47c0-90de-8b7bc2a104d6",
   "metadata": {},
   "outputs": [],
   "source": [
    "#average number of workds in selftext\n",
    "count = df['selftext'].str.split().str.len()\n"
   ]
  },
  {
   "cell_type": "code",
   "execution_count": 26,
   "id": "1a483c14-347c-477d-b303-14946b601244",
   "metadata": {},
   "outputs": [
    {
     "data": {
      "text/plain": [
       "36         2\n",
       "50        42\n",
       "51        51\n",
       "62        80\n",
       "64        71\n",
       "        ... \n",
       "88729     30\n",
       "88736    103\n",
       "88747      1\n",
       "88758    309\n",
       "88761     12\n",
       "Name: selftext, Length: 12421, dtype: int64"
      ]
     },
     "execution_count": 26,
     "metadata": {},
     "output_type": "execute_result"
    }
   ],
   "source": [
    "count"
   ]
  },
  {
   "cell_type": "code",
   "execution_count": 27,
   "id": "89dee0b1-85c5-4220-911f-97679890389f",
   "metadata": {},
   "outputs": [
    {
     "data": {
      "text/plain": [
       "74.58256179051607"
      ]
     },
     "execution_count": 27,
     "metadata": {},
     "output_type": "execute_result"
    }
   ],
   "source": [
    "count.mean()"
   ]
  },
  {
   "cell_type": "markdown",
   "id": "5a7482e5",
   "metadata": {},
   "source": [
    "### 1-3. Cleaning Text Data"
   ]
  },
  {
   "cell_type": "code",
   "execution_count": 28,
   "id": "48f15a8e-4dc2-4c70-8aeb-d6156d5a40c6",
   "metadata": {},
   "outputs": [],
   "source": [
    "##!pip install spacy\n",
    "##!python -m spacy download en_core_web_sm"
   ]
  },
  {
   "cell_type": "code",
   "execution_count": 29,
   "id": "443f2abc",
   "metadata": {},
   "outputs": [
    {
     "name": "stderr",
     "output_type": "stream",
     "text": [
      "2022-07-21 16:06:32.433113: W tensorflow/stream_executor/platform/default/dso_loader.cc:64] Could not load dynamic library 'libcudart.so.11.0'; dlerror: libcudart.so.11.0: cannot open shared object file: No such file or directory\n",
      "2022-07-21 16:06:32.433149: I tensorflow/stream_executor/cuda/cudart_stub.cc:29] Ignore above cudart dlerror if you do not have a GPU set up on your machine.\n"
     ]
    }
   ],
   "source": [
    "# Import spaCy\n",
    "import spacy\n",
    "# Load the English preprocessing pipeline\n",
    "nlp = spacy.load('en_core_web_sm')"
   ]
  },
  {
   "cell_type": "code",
   "execution_count": 30,
   "id": "bc918310-c081-48cf-9474-d1b0a95d0cb0",
   "metadata": {},
   "outputs": [
    {
     "name": "stdout",
     "output_type": "stream",
     "text": [
      "Seems quiet. \n"
     ]
    }
   ],
   "source": [
    "# Test: Parse the first reddit post in the dataset\n",
    "parsed_post = nlp(df.selftext.iloc[0])\n",
    "print(parsed_post)"
   ]
  },
  {
   "cell_type": "code",
   "execution_count": 31,
   "id": "70d6cf85-4c62-4f90-8adc-ce3b3c4ce500",
   "metadata": {},
   "outputs": [
    {
     "name": "stdout",
     "output_type": "stream",
     "text": [
      "Sentence 1\n",
      "Seems quiet.\n",
      "\n"
     ]
    }
   ],
   "source": [
    "# Print each sentence in the parsed post\n",
    "for idx, sentence in enumerate(parsed_post.sents):  \n",
    "    ##In python, .sents is used for \"sentence segmentation\" which is present inside spacy. \n",
    "    print(f'Sentence {idx + 1}')\n",
    "    print(sentence)\n",
    "    print('') #space"
   ]
  },
  {
   "cell_type": "code",
   "execution_count": 32,
   "id": "271e0e52",
   "metadata": {},
   "outputs": [
    {
     "data": {
      "text/html": [
       "<div>\n",
       "<style scoped>\n",
       "    .dataframe tbody tr th:only-of-type {\n",
       "        vertical-align: middle;\n",
       "    }\n",
       "\n",
       "    .dataframe tbody tr th {\n",
       "        vertical-align: top;\n",
       "    }\n",
       "\n",
       "    .dataframe thead th {\n",
       "        text-align: right;\n",
       "    }\n",
       "</style>\n",
       "<table border=\"1\" class=\"dataframe\">\n",
       "  <thead>\n",
       "    <tr style=\"text-align: right;\">\n",
       "      <th></th>\n",
       "      <th>token_text</th>\n",
       "      <th>part_of_speech</th>\n",
       "      <th>token_lemma</th>\n",
       "      <th>token_stop</th>\n",
       "      <th>token_punct</th>\n",
       "    </tr>\n",
       "  </thead>\n",
       "  <tbody>\n",
       "    <tr>\n",
       "      <th>0</th>\n",
       "      <td>Seems</td>\n",
       "      <td>VERB</td>\n",
       "      <td>seem</td>\n",
       "      <td>True</td>\n",
       "      <td>False</td>\n",
       "    </tr>\n",
       "    <tr>\n",
       "      <th>1</th>\n",
       "      <td>quiet</td>\n",
       "      <td>ADJ</td>\n",
       "      <td>quiet</td>\n",
       "      <td>False</td>\n",
       "      <td>False</td>\n",
       "    </tr>\n",
       "    <tr>\n",
       "      <th>2</th>\n",
       "      <td>.</td>\n",
       "      <td>PUNCT</td>\n",
       "      <td>.</td>\n",
       "      <td>False</td>\n",
       "      <td>True</td>\n",
       "    </tr>\n",
       "  </tbody>\n",
       "</table>\n",
       "</div>"
      ],
      "text/plain": [
       "  token_text part_of_speech token_lemma  token_stop  token_punct\n",
       "0      Seems           VERB        seem        True        False\n",
       "1      quiet            ADJ       quiet       False        False\n",
       "2          .          PUNCT           .       False         True"
      ]
     },
     "execution_count": 32,
     "metadata": {},
     "output_type": "execute_result"
    }
   ],
   "source": [
    "# Extract the first 15 items for the following properties of the parsed post\n",
    "\n",
    "# The token text \n",
    "token_text = [token.orth_ for token in parsed_post][:15]   \n",
    "# Part of speech \n",
    "token_pos = [token.pos_ for token in parsed_post][:15]   \n",
    "# Lemma (or 'dictionary form')\n",
    "token_lemma = [token.lemma_ for token in parsed_post][:15]\n",
    "# Stop word? t/f\n",
    "token_stop = [token.is_stop for token in parsed_post][:15]\n",
    "# Puncutation? t/f\n",
    "token_punct = [token.is_punct for token in parsed_post][:15]\n",
    "\n",
    "# Make a dataframe with these items\n",
    "pd.DataFrame(zip(token_text, token_pos, token_lemma, token_stop, token_punct),\n",
    "             columns=['token_text', 'part_of_speech', 'token_lemma', 'token_stop', 'token_punct'])"
   ]
  },
  {
   "cell_type": "markdown",
   "id": "ab5e56f9",
   "metadata": {},
   "source": [
    "### 1-4. Preprocessing all data"
   ]
  },
  {
   "cell_type": "code",
   "execution_count": 33,
   "id": "629cb596",
   "metadata": {},
   "outputs": [],
   "source": [
    "import spacy\n",
    "nlp = spacy.load('en_core_web_sm')\n",
    "from gensim.models.phrases import Phrases, Phraser"
   ]
  },
  {
   "cell_type": "code",
   "execution_count": 34,
   "id": "e0d11084",
   "metadata": {},
   "outputs": [],
   "source": [
    "def clean(token):\n",
    "    \"\"\"Helper function that specifies whether a token is:\n",
    "        - punctuation\n",
    "        - space\n",
    "        - digit\n",
    "    \"\"\"\n",
    "    return token.is_punct or token.is_space or token.is_digit\n",
    "\n",
    "def line_read(df, text_col='selftext'):\n",
    "    \"\"\"Generator function to read in text from df and get rid of line breaks.\"\"\"    \n",
    "    for text in df[text_col]:\n",
    "        yield text.replace('\\n', '')\n",
    "\n",
    "def preprocess(df, text_col='selftext', allowed_postags=['NOUN', 'ADJ']):\n",
    "    \"\"\"Preprocessing function to apply to a dataframe.\"\"\"\n",
    "    for parsed in nlp.pipe(line_read(df, text_col), batch_size=1000, disable=[\"tok2vec\", \"ner\"]):\n",
    "        # Gather lowercased, lemmatized tokens\n",
    "        tokens = [token.lemma_.lower() if token.lemma_ != '-PRON-'\n",
    "                  else token.lower_ \n",
    "                  for token in parsed if not clean(token)]\n",
    "        # Remove specific lemmatizations, and words that are not nouns or adjectives\n",
    "        tokens = [lemma\n",
    "                  for lemma in tokens\n",
    "                  if not lemma in [\"'s\",  \"’s\", \"’\"] and not lemma in allowed_postags]\n",
    "        # Remove stop words\n",
    "        tokens = [token for token in tokens if token not in spacy.lang.en.stop_words.STOP_WORDS]\n",
    "        yield tokens\n",
    "       # Remove url\n",
    "def remove_URL(df, text_col='selftext'):\n",
    "    \"\"\"Remove URLs from a sample string\"\"\"\n",
    "    return re.sub(r\"http\\S+\", \"\", text_col)\n"
   ]
  },
  {
   "cell_type": "code",
   "execution_count": 35,
   "id": "d2d05657",
   "metadata": {},
   "outputs": [],
   "source": [
    "# This may take a while\n",
    "lemmas = [line for line in preprocess(df)]"
   ]
  },
  {
   "cell_type": "code",
   "execution_count": 36,
   "id": "f0107553-fa22-47b5-9bfa-7afe58c1e4be",
   "metadata": {},
   "outputs": [
    {
     "data": {
      "text/plain": [
       "['hi',\n",
       " 'like',\n",
       " 'visit',\n",
       " 'ukraine',\n",
       " 'time',\n",
       " 'looking',\n",
       " 'cheap',\n",
       " 'tickets',\n",
       " 'seoul->kiev->seoul',\n",
       " 'june',\n",
       " 'june',\n",
       " 'flexible',\n",
       " 'seoul',\n",
       " 'june',\n",
       " '25/26).could',\n",
       " 'suggest',\n",
       " 'cheapest',\n",
       " 'way',\n",
       " 'fly?thanks',\n",
       " 'advance']"
      ]
     },
     "execution_count": 36,
     "metadata": {},
     "output_type": "execute_result"
    }
   ],
   "source": [
    "lemmas[2]"
   ]
  },
  {
   "cell_type": "code",
   "execution_count": 37,
   "id": "c3ae0d62-b605-4b85-9ccf-8a8d18acc5ad",
   "metadata": {},
   "outputs": [
    {
     "data": {
      "text/html": [
       "<div>\n",
       "<style scoped>\n",
       "    .dataframe tbody tr th:only-of-type {\n",
       "        vertical-align: middle;\n",
       "    }\n",
       "\n",
       "    .dataframe tbody tr th {\n",
       "        vertical-align: top;\n",
       "    }\n",
       "\n",
       "    .dataframe thead th {\n",
       "        text-align: right;\n",
       "    }\n",
       "</style>\n",
       "<table border=\"1\" class=\"dataframe\">\n",
       "  <thead>\n",
       "    <tr style=\"text-align: right;\">\n",
       "      <th></th>\n",
       "      <th>idint</th>\n",
       "      <th>idstr</th>\n",
       "      <th>created</th>\n",
       "      <th>nsfw</th>\n",
       "      <th>author</th>\n",
       "      <th>title</th>\n",
       "      <th>selftext</th>\n",
       "      <th>score</th>\n",
       "      <th>distinguish</th>\n",
       "      <th>textlen</th>\n",
       "      <th>num_comments</th>\n",
       "      <th>flair_text</th>\n",
       "      <th>flair_css_class</th>\n",
       "    </tr>\n",
       "  </thead>\n",
       "  <tbody>\n",
       "    <tr>\n",
       "      <th>36</th>\n",
       "      <td>26795140</td>\n",
       "      <td>t3_fyb9g</td>\n",
       "      <td>1299397232</td>\n",
       "      <td>0</td>\n",
       "      <td>pozhaluista</td>\n",
       "      <td>Does the /r/ Ukraine have anyone here? Hello?</td>\n",
       "      <td>Seems quiet.</td>\n",
       "      <td>10</td>\n",
       "      <td>NaN</td>\n",
       "      <td>13</td>\n",
       "      <td>24</td>\n",
       "      <td>NaN</td>\n",
       "      <td>NaN</td>\n",
       "    </tr>\n",
       "    <tr>\n",
       "      <th>50</th>\n",
       "      <td>29482904</td>\n",
       "      <td>t3_hjx5k</td>\n",
       "      <td>1306343697</td>\n",
       "      <td>0</td>\n",
       "      <td>visarun</td>\n",
       "      <td>Does immigration in Simferpol check whether th...</td>\n",
       "      <td>I have stayed 70 days and then 80 days out of ...</td>\n",
       "      <td>0</td>\n",
       "      <td>NaN</td>\n",
       "      <td>223</td>\n",
       "      <td>1</td>\n",
       "      <td>NaN</td>\n",
       "      <td>NaN</td>\n",
       "    </tr>\n",
       "    <tr>\n",
       "      <th>51</th>\n",
       "      <td>29608809</td>\n",
       "      <td>t3_hmmax</td>\n",
       "      <td>1306639850</td>\n",
       "      <td>0</td>\n",
       "      <td>[deleted]</td>\n",
       "      <td>Tickets to Ukraine from Seoul?</td>\n",
       "      <td>Hi everyone.  I'd like to visit Ukraine for th...</td>\n",
       "      <td>2</td>\n",
       "      <td>NaN</td>\n",
       "      <td>281</td>\n",
       "      <td>0</td>\n",
       "      <td>NaN</td>\n",
       "      <td>NaN</td>\n",
       "    </tr>\n",
       "    <tr>\n",
       "      <th>62</th>\n",
       "      <td>33263382</td>\n",
       "      <td>t3_jsy6u</td>\n",
       "      <td>1314200067</td>\n",
       "      <td>0</td>\n",
       "      <td>lsakbaetle3r9</td>\n",
       "      <td>looking for someone</td>\n",
       "      <td>had a friend who moved to my town ~4-5 years a...</td>\n",
       "      <td>3</td>\n",
       "      <td>NaN</td>\n",
       "      <td>386</td>\n",
       "      <td>1</td>\n",
       "      <td>NaN</td>\n",
       "      <td>NaN</td>\n",
       "    </tr>\n",
       "    <tr>\n",
       "      <th>64</th>\n",
       "      <td>34553372</td>\n",
       "      <td>t3_kkljw</td>\n",
       "      <td>1316449514</td>\n",
       "      <td>0</td>\n",
       "      <td>[deleted]</td>\n",
       "      <td>[Ukraine] Can you tell me what my surname means?</td>\n",
       "      <td>Hey /r/ukraine!  I am trying to connect with m...</td>\n",
       "      <td>6</td>\n",
       "      <td>NaN</td>\n",
       "      <td>381</td>\n",
       "      <td>17</td>\n",
       "      <td>NaN</td>\n",
       "      <td>NaN</td>\n",
       "    </tr>\n",
       "  </tbody>\n",
       "</table>\n",
       "</div>"
      ],
      "text/plain": [
       "       idint     idstr     created  nsfw         author  \\\n",
       "36  26795140  t3_fyb9g  1299397232     0    pozhaluista   \n",
       "50  29482904  t3_hjx5k  1306343697     0        visarun   \n",
       "51  29608809  t3_hmmax  1306639850     0      [deleted]   \n",
       "62  33263382  t3_jsy6u  1314200067     0  lsakbaetle3r9   \n",
       "64  34553372  t3_kkljw  1316449514     0      [deleted]   \n",
       "\n",
       "                                                title  \\\n",
       "36      Does the /r/ Ukraine have anyone here? Hello?   \n",
       "50  Does immigration in Simferpol check whether th...   \n",
       "51                     Tickets to Ukraine from Seoul?   \n",
       "62                                looking for someone   \n",
       "64   [Ukraine] Can you tell me what my surname means?   \n",
       "\n",
       "                                             selftext  score distinguish  \\\n",
       "36                                      Seems quiet.      10         NaN   \n",
       "50  I have stayed 70 days and then 80 days out of ...      0         NaN   \n",
       "51  Hi everyone.  I'd like to visit Ukraine for th...      2         NaN   \n",
       "62  had a friend who moved to my town ~4-5 years a...      3         NaN   \n",
       "64  Hey /r/ukraine!  I am trying to connect with m...      6         NaN   \n",
       "\n",
       "    textlen  num_comments flair_text flair_css_class  \n",
       "36       13            24        NaN             NaN  \n",
       "50      223             1        NaN             NaN  \n",
       "51      281             0        NaN             NaN  \n",
       "62      386             1        NaN             NaN  \n",
       "64      381            17        NaN             NaN  "
      ]
     },
     "execution_count": 37,
     "metadata": {},
     "output_type": "execute_result"
    }
   ],
   "source": [
    "df.head()"
   ]
  },
  {
   "cell_type": "markdown",
   "id": "18403226-cabe-41ae-9499-427a54122846",
   "metadata": {},
   "source": [
    "### 1-5.Phrase Modeling with `gensim`"
   ]
  },
  {
   "cell_type": "code",
   "execution_count": 38,
   "id": "dd61684f-3ef7-47d8-a7ab-0fc1e61bea6c",
   "metadata": {},
   "outputs": [],
   "source": [
    "from gensim.models.phrases import Phrases, Phraser\n",
    "\n",
    "# Create bigram and trigram models\n",
    "bigram = Phrases(lemmas, min_count=10, threshold=100)\n",
    "trigram = Phrases(bigram[lemmas], min_count=10, threshold=50)  \n",
    "bigram_phraser = Phraser(bigram)\n",
    "trigram_phraser = Phraser(trigram)\n",
    "\n",
    "# Form trigrams\n",
    "trigrams = [trigram_phraser[bigram_phraser[doc]] for doc in lemmas]"
   ]
  },
  {
   "cell_type": "code",
   "execution_count": 39,
   "id": "48ac415e-aedf-406b-ab33-f133bcc9cc1e",
   "metadata": {},
   "outputs": [
    {
     "data": {
      "text/plain": [
       "'quiet'"
      ]
     },
     "execution_count": 39,
     "metadata": {},
     "output_type": "execute_result"
    }
   ],
   "source": [
    "# Join each into a string\n",
    "trigrams_joined = [' '.join(trigram) for trigram in trigrams]\n",
    "trigrams_joined[0]"
   ]
  },
  {
   "cell_type": "code",
   "execution_count": 40,
   "id": "46509ba8-2269-440d-9ab3-e33e90691a2c",
   "metadata": {},
   "outputs": [
    {
     "data": {
      "text/plain": [
       "154"
      ]
     },
     "execution_count": 40,
     "metadata": {},
     "output_type": "execute_result"
    }
   ],
   "source": [
    "#We can use .keys() to identify the bigrams in the dataset. How many bigrams were identified by the parser?\n",
    "len(bigram_phraser.phrasegrams.keys())"
   ]
  },
  {
   "cell_type": "code",
   "execution_count": 41,
   "id": "6f754728-8abe-4f5c-a3bf-a3e6ff051dd0",
   "metadata": {},
   "outputs": [
    {
     "data": {
      "text/plain": [
       "['shed_light',\n",
       " 'years_ago',\n",
       " 'thanks_advance',\n",
       " 'eastern_europe',\n",
       " 'english_speakers',\n",
       " 'cross_border',\n",
       " 'story_short',\n",
       " 'new_york',\n",
       " 'e_mail',\n",
       " 'google_translate']"
      ]
     },
     "execution_count": 41,
     "metadata": {},
     "output_type": "execute_result"
    }
   ],
   "source": [
    "#Look at biagrams\n",
    "list(bigram_phraser.phrasegrams.keys())[:10]"
   ]
  },
  {
   "cell_type": "code",
   "execution_count": 42,
   "id": "e53a815d-5212-4317-ba74-4a4b7f596c77",
   "metadata": {},
   "outputs": [
    {
     "data": {
      "text/plain": [
       "['point_right_direction',\n",
       " 'long_story_short',\n",
       " '=_png&auto_=',\n",
       " '=_webp&s_=',\n",
       " 'view_poll](https://www.reddit.com_poll',\n",
       " 'air_raid_sirens',\n",
       " 'air_raid_siren',\n",
       " 'nuclear_power_plant']"
      ]
     },
     "execution_count": 42,
     "metadata": {},
     "output_type": "execute_result"
    }
   ],
   "source": [
    "# Look at trigrams\n",
    "[trigram for trigram in list(trigram_phraser.phrasegrams.keys()) if trigram.count('_') == 2]"
   ]
  },
  {
   "cell_type": "markdown",
   "id": "c691a8ee-1857-4ac8-9c1f-187cb118fb7a",
   "metadata": {},
   "source": [
    "### 1-6. Save the file after preprocessing"
   ]
  },
  {
   "cell_type": "code",
   "execution_count": 43,
   "id": "bf56a767-36f8-4a1e-b2f9-c2ee9bf4a19f",
   "metadata": {},
   "outputs": [],
   "source": [
    "# Inserting next to selftext column\n",
    "df.insert(loc=7, column='lemmas', value=trigrams_joined)\n",
    "# Removing empty rows in lemmas\n",
    "df = df[~df['lemmas'].isin([''])]"
   ]
  },
  {
   "cell_type": "code",
   "execution_count": 44,
   "id": "5156f53e-5072-4eb4-b094-48d8f92a12ca",
   "metadata": {},
   "outputs": [
    {
     "data": {
      "text/html": [
       "<div>\n",
       "<style scoped>\n",
       "    .dataframe tbody tr th:only-of-type {\n",
       "        vertical-align: middle;\n",
       "    }\n",
       "\n",
       "    .dataframe tbody tr th {\n",
       "        vertical-align: top;\n",
       "    }\n",
       "\n",
       "    .dataframe thead th {\n",
       "        text-align: right;\n",
       "    }\n",
       "</style>\n",
       "<table border=\"1\" class=\"dataframe\">\n",
       "  <thead>\n",
       "    <tr style=\"text-align: right;\">\n",
       "      <th></th>\n",
       "      <th>idint</th>\n",
       "      <th>idstr</th>\n",
       "      <th>created</th>\n",
       "      <th>nsfw</th>\n",
       "      <th>author</th>\n",
       "      <th>title</th>\n",
       "      <th>selftext</th>\n",
       "      <th>lemmas</th>\n",
       "      <th>score</th>\n",
       "      <th>distinguish</th>\n",
       "      <th>textlen</th>\n",
       "      <th>num_comments</th>\n",
       "      <th>flair_text</th>\n",
       "      <th>flair_css_class</th>\n",
       "    </tr>\n",
       "  </thead>\n",
       "  <tbody>\n",
       "    <tr>\n",
       "      <th>36</th>\n",
       "      <td>26795140</td>\n",
       "      <td>t3_fyb9g</td>\n",
       "      <td>1299397232</td>\n",
       "      <td>0</td>\n",
       "      <td>pozhaluista</td>\n",
       "      <td>Does the /r/ Ukraine have anyone here? Hello?</td>\n",
       "      <td>Seems quiet.</td>\n",
       "      <td>quiet</td>\n",
       "      <td>10</td>\n",
       "      <td>NaN</td>\n",
       "      <td>13</td>\n",
       "      <td>24</td>\n",
       "      <td>NaN</td>\n",
       "      <td>NaN</td>\n",
       "    </tr>\n",
       "    <tr>\n",
       "      <th>50</th>\n",
       "      <td>29482904</td>\n",
       "      <td>t3_hjx5k</td>\n",
       "      <td>1306343697</td>\n",
       "      <td>0</td>\n",
       "      <td>visarun</td>\n",
       "      <td>Does immigration in Simferpol check whether th...</td>\n",
       "      <td>I have stayed 70 days and then 80 days out of ...</td>\n",
       "      <td>stayed days days days know borispol pretty str...</td>\n",
       "      <td>0</td>\n",
       "      <td>NaN</td>\n",
       "      <td>223</td>\n",
       "      <td>1</td>\n",
       "      <td>NaN</td>\n",
       "      <td>NaN</td>\n",
       "    </tr>\n",
       "    <tr>\n",
       "      <th>51</th>\n",
       "      <td>29608809</td>\n",
       "      <td>t3_hmmax</td>\n",
       "      <td>1306639850</td>\n",
       "      <td>0</td>\n",
       "      <td>[deleted]</td>\n",
       "      <td>Tickets to Ukraine from Seoul?</td>\n",
       "      <td>Hi everyone.  I'd like to visit Ukraine for th...</td>\n",
       "      <td>hi like visit ukraine time looking cheap ticke...</td>\n",
       "      <td>2</td>\n",
       "      <td>NaN</td>\n",
       "      <td>281</td>\n",
       "      <td>0</td>\n",
       "      <td>NaN</td>\n",
       "      <td>NaN</td>\n",
       "    </tr>\n",
       "    <tr>\n",
       "      <th>62</th>\n",
       "      <td>33263382</td>\n",
       "      <td>t3_jsy6u</td>\n",
       "      <td>1314200067</td>\n",
       "      <td>0</td>\n",
       "      <td>lsakbaetle3r9</td>\n",
       "      <td>looking for someone</td>\n",
       "      <td>had a friend who moved to my town ~4-5 years a...</td>\n",
       "      <td>friend moved town ~4 years ago.he myspace acce...</td>\n",
       "      <td>3</td>\n",
       "      <td>NaN</td>\n",
       "      <td>386</td>\n",
       "      <td>1</td>\n",
       "      <td>NaN</td>\n",
       "      <td>NaN</td>\n",
       "    </tr>\n",
       "    <tr>\n",
       "      <th>64</th>\n",
       "      <td>34553372</td>\n",
       "      <td>t3_kkljw</td>\n",
       "      <td>1316449514</td>\n",
       "      <td>0</td>\n",
       "      <td>[deleted]</td>\n",
       "      <td>[Ukraine] Can you tell me what my surname means?</td>\n",
       "      <td>Hey /r/ukraine!  I am trying to connect with m...</td>\n",
       "      <td>hey /r ukraine trying connect roots trying fin...</td>\n",
       "      <td>6</td>\n",
       "      <td>NaN</td>\n",
       "      <td>381</td>\n",
       "      <td>17</td>\n",
       "      <td>NaN</td>\n",
       "      <td>NaN</td>\n",
       "    </tr>\n",
       "  </tbody>\n",
       "</table>\n",
       "</div>"
      ],
      "text/plain": [
       "       idint     idstr     created  nsfw         author  \\\n",
       "36  26795140  t3_fyb9g  1299397232     0    pozhaluista   \n",
       "50  29482904  t3_hjx5k  1306343697     0        visarun   \n",
       "51  29608809  t3_hmmax  1306639850     0      [deleted]   \n",
       "62  33263382  t3_jsy6u  1314200067     0  lsakbaetle3r9   \n",
       "64  34553372  t3_kkljw  1316449514     0      [deleted]   \n",
       "\n",
       "                                                title  \\\n",
       "36      Does the /r/ Ukraine have anyone here? Hello?   \n",
       "50  Does immigration in Simferpol check whether th...   \n",
       "51                     Tickets to Ukraine from Seoul?   \n",
       "62                                looking for someone   \n",
       "64   [Ukraine] Can you tell me what my surname means?   \n",
       "\n",
       "                                             selftext  \\\n",
       "36                                      Seems quiet.    \n",
       "50  I have stayed 70 days and then 80 days out of ...   \n",
       "51  Hi everyone.  I'd like to visit Ukraine for th...   \n",
       "62  had a friend who moved to my town ~4-5 years a...   \n",
       "64  Hey /r/ukraine!  I am trying to connect with m...   \n",
       "\n",
       "                                               lemmas  score distinguish  \\\n",
       "36                                              quiet     10         NaN   \n",
       "50  stayed days days days know borispol pretty str...      0         NaN   \n",
       "51  hi like visit ukraine time looking cheap ticke...      2         NaN   \n",
       "62  friend moved town ~4 years ago.he myspace acce...      3         NaN   \n",
       "64  hey /r ukraine trying connect roots trying fin...      6         NaN   \n",
       "\n",
       "    textlen  num_comments flair_text flair_css_class  \n",
       "36       13            24        NaN             NaN  \n",
       "50      223             1        NaN             NaN  \n",
       "51      281             0        NaN             NaN  \n",
       "62      386             1        NaN             NaN  \n",
       "64      381            17        NaN             NaN  "
      ]
     },
     "execution_count": 44,
     "metadata": {},
     "output_type": "execute_result"
    }
   ],
   "source": [
    "df.head()"
   ]
  },
  {
   "cell_type": "code",
   "execution_count": 45,
   "id": "d02abe2d-3721-4910-971d-a77ac03a992d",
   "metadata": {},
   "outputs": [],
   "source": [
    "#most frequent lemmas\n",
    "lemmacount = df['lemmas'].value_counts()"
   ]
  },
  {
   "cell_type": "code",
   "execution_count": 46,
   "id": "17d4bd55-07a5-415a-af65-f6a0f6f73d1b",
   "metadata": {},
   "outputs": [
    {
     "data": {
      "text/plain": [
       "title                                                                                                                                                                                                                                                                                                                                                                                                                                                                                                                                                                                                                                                                                                                                                                                                                                                                                                                                                                                                                                                                                                                                                                                                                                                                                                                                                                                                                                                                                                                                                                                                                                                                                                                                                                                                                                                                                                                                                                                                                                                                                                                                                                                                                                                                                                                                                                                                                                                                                                                                                                                                                                                                                                                                              9\n",
       "stay_strong                                                                                                                                                                                                                                                                                                                                                                                                                                                                                                                                                                                                                                                                                                                                                                                                                                                                                                                                                                                                                                                                                                                                                                                                                                                                                                                                                                                                                                                                                                                                                                                                                                                                                                                                                                                                                                                                                                                                                                                                                                                                                                                                                                                                                                                                                                                                                                                                                                                                                                                                                                                                                                                                                                                                        6\n",
       "removed reddit account violating content policy](/help contentpolicy                                                                                                                                                                                                                                                                                                                                                                                                                                                                                                                                                                                                                                                                                                                                                                                                                                                                                                                                                                                                                                                                                                                                                                                                                                                                                                                                                                                                                                                                                                                                                                                                                                                                                                                                                                                                                                                                                                                                                                                                                                                                                                                                                                                                                                                                                                                                                                                                                                                                                                                                                                                                                                                                               6\n",
       "instance kyiv                                                                                                                                                                                                                                                                                                                                                                                                                                                                                                                                                                                                                                                                                                                                                                                                                                                                                                                                                                                                                                                                                                                                                                                                                                                                                                                                                                                                                                                                                                                                                                                                                                                                                                                                                                                                                                                                                                                                                                                                                                                                                                                                                                                                                                                                                                                                                                                                                                                                                                                                                                                                                                                                                                                                      5\n",
       "collapsing ussr ukraine powerful post_soviet state ukraine nuclear power nukes highly developed light heavy industries cutting edge science world 3rd powerful military developed agricultural sector ukraine president said years ukraine wealthy european state second france'\" poorest european nation people working illegally polish plantations pennies ukrainian smart creative people leaking country know companies whatsapp pocketbook grammarly ones invented ukrainians moved normal country spoke wheel business development middle_class ukraine term destroyed corrupt_politicians oligarchs people working like slaves poland finland eu countries fact 11.4 ukrainian gdp based gastarbeiter earnings small_business people payed jobs good work conditions small_business killed country dumb laws created fucking oligarchs imagine small_business e.g. restaurant opened small boutique beginning served people grew country size business earns millions gives job places people normal country kill business taxes beginning_development receive millions taxes business grew beginning apple extra small basement based company able develop trillion dollar corporation happened beginning company formation pressured taxes_bribes shit steve jobs steve wozniak opened company ukraine cis country beginning_development shaken thousand bucks taxes endure close business eu acted thoughtfully taken paw business carotid artery allowed grow receiving billions_dollars taxes officials stupid greedy geezers simply interested public national prosperity want steal money possible right rob small companies forcing pay taxes_bribes small businesses survived suffering racket ukraine wealthy people earnt millions dollars simply taking domestic factories collapse ussr speculating natural resources promoting interests lobbying corrupt_politicians create dumb law laws working precisely absent oligarchs politicians courts corrupted criminals politicians russian backed spies ukraine crucial military structures having conclusive evidences politicians crimes courts prison people poor ignorant education system decades normal countries medicine terrible hospitals build 90s operating outdated technologies teachers surgeons engineers scientists earning pennies barely able pony life expenses people retired getting fucking dollars pension military sucks military equipment soviet_era ukraine lost like ukrainians going country future point post convey people idea ukraine russia absolutely post_soviet countries corrupt poor post_soviet countries hundreds times worse western country bad people thinking post stream thoughts country decided post maybe interested read    5\n",
       "                                                                                                                                                                                                                                                                                                                                                                                                                                                                                                                                                                                                                                                                                                                                                                                                                                                                                                                                                                                                                                                                                                                                                                                                                                                                                                                                                                                                                                                                                                                                                                                                                                                                                                                                                                                                                                                                                                                                                                                                                                                                                                                                                                                                                                                                                                                                                                                                                                                                                                                                                                                                                                                                                                                                                  ..\n",
       "created petition help draw attention situation ongoing border donbas attention possible elicit effective response interest free prosperous ukraine literally russia sign share                                                                                                                                                                                                                                                                                                                                                                                                                                                                                                                                                                                                                                                                                                                                                                                                                                                                                                                                                                                                                                                                                                                                                                                                                                                                                                                                                                                                                                                                                                                                                                                                                                                                                                                                                                                                                                                                                                                                                                                                                                                                                                                                                                                                                                                                                                                                                                                                                                                                                                                                                                     1\n",
       "hello!i currently investigating emotional intelligence body image cultural background research team survey takes minutes appropriate age cultural backgrounds survey need sufficient sample size include cultural background analysis course want include possible responses people east european background far help massively fill share survey http://fppvu.eu.qualtrics.com/jfe/form/sv\\_51dygzpf5f4s7ga](http://fppvu.eu.qualtrics.com/jfe/form/sv_51dygzpf5f4s7ga)thank                                                                                                                                                                                                                                                                                                                                                                                                                                                                                                                                                                                                                                                                                                                                                                                                                                                                                                                                                                                                                                                                                                                                                                                                                                                                                                                                                                                                                                                                                                                                                                                                                                                                                                                                                                                                                                                                                                                                                                                                                                                                                                                                                                                                                                                                      1\n",
       "https://twitter.com/mhmck/status/1384371285816446979?ref\\_src=twsrc\\^tfw|twcamp\\^tweetembed|twterm\\^1384371285816446979|twgr\\^|twcon\\^s1\\_c10&ref\\_url=https://publish.twitter.com/?query=https3a2f2ftwitter.com2fmhmck2fstatus2f1384371285816446979widget=tweet](https://twitter.com/mhmck/status/1384371285816446979?ref_src=twsrc%5etfw%7ctwcamp%5etweetembed%7ctwterm%5e1384371285816446979%7ctwgr%5e%7ctwcon%5es1_c10&ref_url=https%3a%2f%2fpublish.twitter.com%2f%3fquery%3dhttps3a2f2ftwitter.com2fmhmck2fstatus2f1384371285816446979widget%3dtweet                                                                                                                                                                                                                                                                                                                                                                                                                                                                                                                                                                                                                                                                                                                                                                                                                                                                                                                                                                                                                                                                                                                                                                                                                                                                                                                                                                                                                                                                                                                                                                                                                                                                                                                                                                                                                                                                                                                                                                                                                                                                                                                                                                                         1\n",
       "hello romanian follow politics touch russia want invade ukraine saw like army border ukraine know situation thought best place ask question thanks_advance                                                                                                                                                                                                                                                                                                                                                                                                                                                                                                                                                                                                                                                                                                                                                                                                                                                                                                                                                                                                                                                                                                                                                                                                                                                                                                                                                                                                                                                                                                                                                                                                                                                                                                                                                                                                                                                                                                                                                                                                                                                                                                                                                                                                                                                                                                                                                                                                                                                                                                                                                                                         1\n",
       "argument people nato expansion                                                                                                                                                                                                                                                                                                                                                                                                                                                                                                                                                                                                                                                                                                                                                                                                                                                                                                                                                                                                                                                                                                                                                                                                                                                                                                                                                                                                                                                                                                                                                                                                                                                                                                                                                                                                                                                                                                                                                                                                                                                                                                                                                                                                                                                                                                                                                                                                                                                                                                                                                                                                                                                                                                                     1\n",
       "Name: lemmas, Length: 12299, dtype: int64"
      ]
     },
     "execution_count": 46,
     "metadata": {},
     "output_type": "execute_result"
    }
   ],
   "source": [
    "lemmacount"
   ]
  },
  {
   "cell_type": "code",
   "execution_count": 47,
   "id": "40128c0f-1221-47bc-84e1-ff9bce565b29",
   "metadata": {},
   "outputs": [],
   "source": [
    "# Save to new csv\n",
    "df.to_csv('ukraine_lemmas.csv', index=False)"
   ]
  },
  {
   "cell_type": "markdown",
   "id": "1471acc6-8ecc-443a-8fbe-48f4cf4c7c89",
   "metadata": {},
   "source": [
    "### For the next steps, make sure to use the file: 'ukraine_lemmas.csv'"
   ]
  },
  {
   "cell_type": "markdown",
   "id": "360dd5f6-d48e-4417-8556-8d574ff1e8e7",
   "metadata": {},
   "source": [
    "## 2. Exploring Texts \n",
    "\n"
   ]
  },
  {
   "cell_type": "markdown",
   "id": "bfdb3118-1c93-42f1-baee-3257d5815084",
   "metadata": {},
   "source": [
    "### 2-1. Diving Deeper into `pandas`"
   ]
  },
  {
   "cell_type": "code",
   "execution_count": 48,
   "id": "ff5e7b30-1e87-4172-b670-ccb5c54f4913",
   "metadata": {},
   "outputs": [],
   "source": [
    "df = pd.read_csv('ukraine_lemmas.csv')"
   ]
  },
  {
   "cell_type": "code",
   "execution_count": 49,
   "id": "813e04df-397b-4dd3-ab12-b8ad86fcc7d6",
   "metadata": {},
   "outputs": [
    {
     "data": {
      "text/html": [
       "<div>\n",
       "<style scoped>\n",
       "    .dataframe tbody tr th:only-of-type {\n",
       "        vertical-align: middle;\n",
       "    }\n",
       "\n",
       "    .dataframe tbody tr th {\n",
       "        vertical-align: top;\n",
       "    }\n",
       "\n",
       "    .dataframe thead th {\n",
       "        text-align: right;\n",
       "    }\n",
       "</style>\n",
       "<table border=\"1\" class=\"dataframe\">\n",
       "  <thead>\n",
       "    <tr style=\"text-align: right;\">\n",
       "      <th></th>\n",
       "      <th>idint</th>\n",
       "      <th>idstr</th>\n",
       "      <th>created</th>\n",
       "      <th>nsfw</th>\n",
       "      <th>author</th>\n",
       "      <th>title</th>\n",
       "      <th>selftext</th>\n",
       "      <th>lemmas</th>\n",
       "      <th>score</th>\n",
       "      <th>distinguish</th>\n",
       "      <th>textlen</th>\n",
       "      <th>num_comments</th>\n",
       "      <th>flair_text</th>\n",
       "      <th>flair_css_class</th>\n",
       "    </tr>\n",
       "  </thead>\n",
       "  <tbody>\n",
       "    <tr>\n",
       "      <th>0</th>\n",
       "      <td>26795140</td>\n",
       "      <td>t3_fyb9g</td>\n",
       "      <td>1299397232</td>\n",
       "      <td>0</td>\n",
       "      <td>pozhaluista</td>\n",
       "      <td>Does the /r/ Ukraine have anyone here? Hello?</td>\n",
       "      <td>Seems quiet.</td>\n",
       "      <td>quiet</td>\n",
       "      <td>10</td>\n",
       "      <td>NaN</td>\n",
       "      <td>13</td>\n",
       "      <td>24</td>\n",
       "      <td>NaN</td>\n",
       "      <td>NaN</td>\n",
       "    </tr>\n",
       "    <tr>\n",
       "      <th>1</th>\n",
       "      <td>29482904</td>\n",
       "      <td>t3_hjx5k</td>\n",
       "      <td>1306343697</td>\n",
       "      <td>0</td>\n",
       "      <td>visarun</td>\n",
       "      <td>Does immigration in Simferpol check whether th...</td>\n",
       "      <td>I have stayed 70 days and then 80 days out of ...</td>\n",
       "      <td>stayed days days days know borispol pretty str...</td>\n",
       "      <td>0</td>\n",
       "      <td>NaN</td>\n",
       "      <td>223</td>\n",
       "      <td>1</td>\n",
       "      <td>NaN</td>\n",
       "      <td>NaN</td>\n",
       "    </tr>\n",
       "    <tr>\n",
       "      <th>2</th>\n",
       "      <td>29608809</td>\n",
       "      <td>t3_hmmax</td>\n",
       "      <td>1306639850</td>\n",
       "      <td>0</td>\n",
       "      <td>[deleted]</td>\n",
       "      <td>Tickets to Ukraine from Seoul?</td>\n",
       "      <td>Hi everyone.  I'd like to visit Ukraine for th...</td>\n",
       "      <td>hi like visit ukraine time looking cheap ticke...</td>\n",
       "      <td>2</td>\n",
       "      <td>NaN</td>\n",
       "      <td>281</td>\n",
       "      <td>0</td>\n",
       "      <td>NaN</td>\n",
       "      <td>NaN</td>\n",
       "    </tr>\n",
       "  </tbody>\n",
       "</table>\n",
       "</div>"
      ],
      "text/plain": [
       "      idint     idstr     created  nsfw       author  \\\n",
       "0  26795140  t3_fyb9g  1299397232     0  pozhaluista   \n",
       "1  29482904  t3_hjx5k  1306343697     0      visarun   \n",
       "2  29608809  t3_hmmax  1306639850     0    [deleted]   \n",
       "\n",
       "                                               title  \\\n",
       "0      Does the /r/ Ukraine have anyone here? Hello?   \n",
       "1  Does immigration in Simferpol check whether th...   \n",
       "2                     Tickets to Ukraine from Seoul?   \n",
       "\n",
       "                                            selftext  \\\n",
       "0                                      Seems quiet.    \n",
       "1  I have stayed 70 days and then 80 days out of ...   \n",
       "2  Hi everyone.  I'd like to visit Ukraine for th...   \n",
       "\n",
       "                                              lemmas  score distinguish  \\\n",
       "0                                              quiet     10         NaN   \n",
       "1  stayed days days days know borispol pretty str...      0         NaN   \n",
       "2  hi like visit ukraine time looking cheap ticke...      2         NaN   \n",
       "\n",
       "   textlen  num_comments flair_text flair_css_class  \n",
       "0       13            24        NaN             NaN  \n",
       "1      223             1        NaN             NaN  \n",
       "2      281             0        NaN             NaN  "
      ]
     },
     "execution_count": 49,
     "metadata": {},
     "output_type": "execute_result"
    }
   ],
   "source": [
    "df.head(3)"
   ]
  },
  {
   "cell_type": "code",
   "execution_count": 50,
   "id": "63ab0901-2c06-4d78-bfeb-95972d36a985",
   "metadata": {},
   "outputs": [
    {
     "data": {
      "text/html": [
       "<div>\n",
       "<style scoped>\n",
       "    .dataframe tbody tr th:only-of-type {\n",
       "        vertical-align: middle;\n",
       "    }\n",
       "\n",
       "    .dataframe tbody tr th {\n",
       "        vertical-align: top;\n",
       "    }\n",
       "\n",
       "    .dataframe thead th {\n",
       "        text-align: right;\n",
       "    }\n",
       "</style>\n",
       "<table border=\"1\" class=\"dataframe\">\n",
       "  <thead>\n",
       "    <tr style=\"text-align: right;\">\n",
       "      <th></th>\n",
       "      <th>idint</th>\n",
       "      <th>idstr</th>\n",
       "      <th>created</th>\n",
       "      <th>nsfw</th>\n",
       "      <th>author</th>\n",
       "      <th>title</th>\n",
       "      <th>selftext</th>\n",
       "      <th>lemmas</th>\n",
       "      <th>score</th>\n",
       "      <th>distinguish</th>\n",
       "      <th>textlen</th>\n",
       "      <th>num_comments</th>\n",
       "      <th>flair_text</th>\n",
       "      <th>flair_css_class</th>\n",
       "    </tr>\n",
       "  </thead>\n",
       "  <tbody>\n",
       "    <tr>\n",
       "      <th>6719</th>\n",
       "      <td>1753516706</td>\n",
       "      <td>t3_szzy5e</td>\n",
       "      <td>1645671618</td>\n",
       "      <td>0</td>\n",
       "      <td>soff_mm</td>\n",
       "      <td>It is an honor to be a Ukrainian at this hour.</td>\n",
       "      <td>We're staying strong. Support the Armed Forces...</td>\n",
       "      <td>staying strong support armed_forces ukraine</td>\n",
       "      <td>48955</td>\n",
       "      <td>NaN</td>\n",
       "      <td>66</td>\n",
       "      <td>2154</td>\n",
       "      <td>NaN</td>\n",
       "      <td>NaN</td>\n",
       "    </tr>\n",
       "    <tr>\n",
       "      <th>11667</th>\n",
       "      <td>1766534572</td>\n",
       "      <td>t3_t7qyss</td>\n",
       "      <td>1646540863</td>\n",
       "      <td>0</td>\n",
       "      <td>sharag123</td>\n",
       "      <td>It is almost 7am and the Sun has Risen on the ...</td>\n",
       "      <td>&amp;#x200B;</td>\n",
       "      <td>x200b</td>\n",
       "      <td>33895</td>\n",
       "      <td>NaN</td>\n",
       "      <td>39</td>\n",
       "      <td>531</td>\n",
       "      <td>WAR</td>\n",
       "      <td>war</td>\n",
       "    </tr>\n",
       "    <tr>\n",
       "      <th>7630</th>\n",
       "      <td>1755924903</td>\n",
       "      <td>t3_t1fkbr</td>\n",
       "      <td>1645825902</td>\n",
       "      <td>0</td>\n",
       "      <td>Arskaaaaa</td>\n",
       "      <td>Cell number of representative of the Russian M...</td>\n",
       "      <td>[ Removed by reddit on account of violating th...</td>\n",
       "      <td>removed reddit account violating content polic...</td>\n",
       "      <td>21197</td>\n",
       "      <td>NaN</td>\n",
       "      <td>0</td>\n",
       "      <td>266</td>\n",
       "      <td>NaN</td>\n",
       "      <td>NaN</td>\n",
       "    </tr>\n",
       "  </tbody>\n",
       "</table>\n",
       "</div>"
      ],
      "text/plain": [
       "            idint      idstr     created  nsfw     author  \\\n",
       "6719   1753516706  t3_szzy5e  1645671618     0    soff_mm   \n",
       "11667  1766534572  t3_t7qyss  1646540863     0  sharag123   \n",
       "7630   1755924903  t3_t1fkbr  1645825902     0  Arskaaaaa   \n",
       "\n",
       "                                                   title  \\\n",
       "6719      It is an honor to be a Ukrainian at this hour.   \n",
       "11667  It is almost 7am and the Sun has Risen on the ...   \n",
       "7630   Cell number of representative of the Russian M...   \n",
       "\n",
       "                                                selftext  \\\n",
       "6719   We're staying strong. Support the Armed Forces...   \n",
       "11667                                           &#x200B;   \n",
       "7630   [ Removed by reddit on account of violating th...   \n",
       "\n",
       "                                                  lemmas  score distinguish  \\\n",
       "6719         staying strong support armed_forces ukraine  48955         NaN   \n",
       "11667                                              x200b  33895         NaN   \n",
       "7630   removed reddit account violating content polic...  21197         NaN   \n",
       "\n",
       "       textlen  num_comments flair_text flair_css_class  \n",
       "6719        66          2154        NaN             NaN  \n",
       "11667       39           531        WAR             war  \n",
       "7630         0           266        NaN             NaN  "
      ]
     },
     "execution_count": 50,
     "metadata": {},
     "output_type": "execute_result"
    }
   ],
   "source": [
    "# Sort dataframe by highest scores\n",
    "df.sort_values(by=['score'], ascending=False)[:3]"
   ]
  },
  {
   "cell_type": "code",
   "execution_count": 51,
   "id": "dc65ef9e-5bce-4887-a0ba-b61748939bd6",
   "metadata": {},
   "outputs": [
    {
     "data": {
      "text/plain": [
       "306"
      ]
     },
     "execution_count": 51,
     "metadata": {},
     "output_type": "execute_result"
    }
   ],
   "source": [
    "# rows with a score higher than 500\n",
    "df_top = df.loc[df['score'] >= 500, :]\n",
    "len(df_top)"
   ]
  },
  {
   "cell_type": "code",
   "execution_count": 52,
   "id": "14cd4387-8692-43e1-acdd-625c2110f099",
   "metadata": {},
   "outputs": [
    {
     "data": {
      "text/plain": [
       "Russian-Ukrainian War       1311\n",
       "Question                    1029\n",
       "Discussion                   916\n",
       "News                         277\n",
       "Request                      172\n",
       "WAR                          155\n",
       "Travel                       124\n",
       "Military                      91\n",
       "Humor                         48\n",
       "Russo-Ukrainian War           46\n",
       "Media                         46\n",
       "Social Media                  46\n",
       "History                       42\n",
       "Moving to Ukraine             26\n",
       "Music                         21\n",
       "WAR CRIME                     19\n",
       "Shitpost                      18\n",
       "War Crimes                    18\n",
       "Important                     10\n",
       "Cuisine                       10\n",
       "Video                          8\n",
       "Social media                   8\n",
       "Photo                          8\n",
       "Government (Unconfirmed)       6\n",
       "Russian Protest                6\n",
       "Tweet                          4\n",
       "Unconfirmed                    3\n",
       "ASTARTES                       1\n",
       "Goverment (Unconfirmed)        1\n",
       "RATE MY BORSHCH!               1\n",
       "Need help                      1\n",
       "WAR | Misleading               1\n",
       "Help                           1\n",
       "Name: flair_text, dtype: int64"
      ]
     },
     "execution_count": 52,
     "metadata": {},
     "output_type": "execute_result"
    }
   ],
   "source": [
    "# unique value counts for a column\n",
    "df.flair_text.value_counts()"
   ]
  },
  {
   "cell_type": "markdown",
   "id": "b2e44a11-cf7d-4d93-bdb9-e747419ceb34",
   "metadata": {},
   "source": [
    "### 2-2 Type-token ratio"
   ]
  },
  {
   "cell_type": "code",
   "execution_count": 53,
   "id": "89c7d00a-28ea-452e-a9cb-61386986d656",
   "metadata": {},
   "outputs": [],
   "source": [
    "# compute the TTR\n",
    "\n",
    "def type_token_ratio(tokens):\n",
    "    \"\"\"Calculates type-token ratio on tokens.\"\"\"\n",
    "    numTokens = len(tokens)\n",
    "    numTypes = len(set(tokens))\n",
    "    return numTypes / numTokens"
   ]
  },
  {
   "cell_type": "code",
   "execution_count": 54,
   "id": "3265b219-6865-444e-9088-649adee463e1",
   "metadata": {},
   "outputs": [
    {
     "name": "stdout",
     "output_type": "stream",
     "text": [
      "Text:\n",
      " quiet\n",
      "TTR: 1.0 \n",
      "\n",
      "Text:\n",
      " stayed days days days know borispol pretty strict checking ones passport simferopol airport strict better use land border crossing lviv poland\n",
      "TTR: 0.8571428571428571 \n",
      "\n",
      "Text:\n",
      " hi like visit ukraine time looking cheap tickets seoul->kiev->seoul june june flexible seoul june 25/26).could suggest cheapest way fly?thanks advance\n",
      "TTR: 0.9 \n",
      "\n",
      "Text:\n",
      " friend moved town ~4 years ago.he myspace accessed long time.he mail.ru email played drugswars.ru game lolhes kiev wondering knows uk social networking site maybe me?pm u wanna help nt wanna blast\n",
      "TTR: 0.967741935483871 \n",
      "\n",
      "Text:\n",
      " hey /r ukraine trying connect roots trying find meaning sticks usa hlusko found lemko origin people caspian mountains language supposed like ukrainian shed_light me?tldr hlusko mean language\n",
      "TTR: 0.8888888888888888 \n",
      "\n",
      "Text:\n",
      " redditors sure day probably monday tuesday 27.09\n",
      "TTR: 1.0 \n",
      "\n",
      "Text:\n",
      " new reddit\n",
      "TTR: 1.0 \n",
      "\n",
      "Text:\n",
      " friends working school project nuclear disaster chernobyl years_ago booked tickets kiev arranged tour area contamination pripjat plan visit museum goal trip gather information possible consequences disaster native ukrainians redditors living think maybe general tips visiting kiev non ukrainian russian speaker fluent english know bit german\n",
      "TTR: 0.9555555555555556 \n",
      "\n",
      "Text:\n",
      " group friends planning going kiev european cup summer want rent house guys know good websites purpose find sketchy looking ones\n",
      "TTR: 1.0 \n",
      "\n",
      "Text:\n",
      " know buy tickets preferably online upcoming gogol bordello concert kiev websites found ukrainian answered emails thanks lot great day\n",
      "TTR: 1.0 \n",
      "\n"
     ]
    }
   ],
   "source": [
    "#loop over the first 10 lemmatized submissions into dataframe\n",
    "\n",
    "for text in df['lemmas'][:10]:\n",
    "    tokens = text.split()\n",
    "    print('Text:\\n', text)\n",
    "    print('TTR:', type_token_ratio(tokens), '\\n')"
   ]
  },
  {
   "cell_type": "markdown",
   "id": "e3c67410-192b-44ee-a144-8c512acfafc2",
   "metadata": {},
   "source": [
    "### 2-3 Processing and Analyzing Language with `Text()`"
   ]
  },
  {
   "cell_type": "code",
   "execution_count": 55,
   "id": "c3b7cda1-f538-4adb-8e77-e04b71ffce75",
   "metadata": {},
   "outputs": [],
   "source": [
    "# Run if you do not have nltk installed\n",
    "##!pip install nltk"
   ]
  },
  {
   "cell_type": "code",
   "execution_count": 56,
   "id": "f9fbaea6-9b0b-4c28-81d8-a83fe359bcab",
   "metadata": {},
   "outputs": [],
   "source": [
    "tokens = []\n",
    "for idx, row in enumerate(df['lemmas']):\n",
    "    # Notice that we put all tokens in the same list\n",
    "    tokens.extend(row.split(' '))"
   ]
  },
  {
   "cell_type": "code",
   "execution_count": 57,
   "id": "fdefa0af-c8ad-4557-9799-e58769379eb3",
   "metadata": {},
   "outputs": [
    {
     "name": "stderr",
     "output_type": "stream",
     "text": [
      "[nltk_data] Downloading package stopwords to /opt/conda/nltk_data...\n",
      "[nltk_data]   Package stopwords is already up-to-date!\n"
     ]
    }
   ],
   "source": [
    "import nltk\n",
    "nltk.download('stopwords')\n",
    "from nltk.text import Text\n",
    "\n",
    "##aita_tokens = Text(tokens)\n",
    "ukraine_tokens = Text(tokens) ##MJ: I changed the name to make it corresponding to our dataset"
   ]
  },
  {
   "cell_type": "markdown",
   "id": "7f6aa009-f419-4610-9d48-e866a33b02ac",
   "metadata": {},
   "source": [
    "### Concordances"
   ]
  },
  {
   "cell_type": "code",
   "execution_count": 58,
   "id": "7c92ad05-b5a6-46bc-991b-a136668962b0",
   "metadata": {},
   "outputs": [
    {
     "data": {
      "text/plain": [
       "[('removed][view_poll](https://www.reddit.com', 'poll'),\n",
       " ('=_png&auto', '=_webp&s_='),\n",
       " ('let', 'know'),\n",
       " ('=_pjpg&auto', '=_webp&s_='),\n",
       " ('russian', 'soldiers'),\n",
       " ('feel', 'like'),\n",
       " ('speak', 'russian'),\n",
       " ('pro', 'russian'),\n",
       " ('russian', 'propaganda'),\n",
       " ('deleted][view_poll](https://www.reddit.com', 'poll'),\n",
       " ('best', 'way'),\n",
       " ('russian', 'troops'),\n",
       " ('speak', 'ukrainian'),\n",
       " ('good', 'idea'),\n",
       " ('want', 'help'),\n",
       " ('russian', 'army'),\n",
       " ('russian', 'invasion'),\n",
       " ('trying', 'find'),\n",
       " ('long', 'time'),\n",
       " ('help', 'appreciated')]"
      ]
     },
     "execution_count": 58,
     "metadata": {},
     "output_type": "execute_result"
    }
   ],
   "source": [
    "ukraine_tokens.collocation_list()"
   ]
  },
  {
   "cell_type": "code",
   "execution_count": 59,
   "id": "2109ee96-7b93-4635-933f-683852a5d1e5",
   "metadata": {},
   "outputs": [
    {
     "data": {
      "text/plain": [
       "[('removed][view_poll](https://www.reddit.com', 'poll'),\n",
       " ('=_png&auto', '=_webp&s_='),\n",
       " ('let', 'know'),\n",
       " ('=_pjpg&auto', '=_webp&s_='),\n",
       " ('speak', 'russian'),\n",
       " ('russian', 'soldiers'),\n",
       " ('x200b;https://preview.redd.it', '=_png&auto_='),\n",
       " ('speak', 'ukrainian'),\n",
       " ('feel', 'like'),\n",
       " ('russian', 'propaganda'),\n",
       " ('deleted][view_poll](https://www.reddit.com', 'poll'),\n",
       " ('pro', 'russian'),\n",
       " ('best', 'way'),\n",
       " ('russian', 'troops'),\n",
       " ('x200b;https://preview.redd.it', '=_pjpg&auto'),\n",
       " ('video', 'player'),\n",
       " ('help', 'appreciated'),\n",
       " ('learn', 'ukrainian'),\n",
       " ('good', 'idea'),\n",
       " ('want', 'help'),\n",
       " ('x200b;https://preview.redd.it', '=_png&auto'),\n",
       " ('long', 'time'),\n",
       " ('trying', 'find'),\n",
       " ('russian', 'army'),\n",
       " ('russian', 'invasion'),\n",
       " ('send', 'money'),\n",
       " ('wish', 'best'),\n",
       " ('watch?v_=', 'watch?v_='),\n",
       " ('ukrainian', 'language'),\n",
       " ('oh_oh_oh_oh', 'oh_oh_oh_oh')]"
      ]
     },
     "execution_count": 59,
     "metadata": {},
     "output_type": "execute_result"
    }
   ],
   "source": [
    "# Change input arguments\n",
    "ukraine_tokens.collocation_list(num=30, window_size=3)"
   ]
  },
  {
   "cell_type": "markdown",
   "id": "7c8ff5e8-247a-474b-a30f-3c2090205c64",
   "metadata": {},
   "source": [
    "### Word Plotting"
   ]
  },
  {
   "cell_type": "code",
   "execution_count": 60,
   "id": "c5185bce-1517-4dfa-95d7-8855690fe0f2",
   "metadata": {},
   "outputs": [
    {
     "data": {
      "image/png": "[encoded data removed]",
      "text/plain": [
       "<Figure size 432x288 with 1 Axes>"
      ]
     },
     "metadata": {
      "needs_background": "light"
     },
     "output_type": "display_data"
    }
   ],
   "source": [
    "ukraine_tokens.dispersion_plot([\"stay_strong\", \"title\"])"
   ]
  },
  {
   "cell_type": "markdown",
   "id": "c96c6c06-ada2-4bfa-962c-fa75d2bdd65e",
   "metadata": {},
   "source": [
    "### Similar Words"
   ]
  },
  {
   "cell_type": "code",
   "execution_count": 61,
   "id": "9d4f9cff-fb3c-40f5-a969-9bfe5834d5ee",
   "metadata": {},
   "outputs": [
    {
     "name": "stdout",
     "output_type": "stream",
     "text": [
      "like ukraine time help nt hey language ukrainian friends planning want\n",
      "guys buy told family company far worth russians hello\n"
     ]
    }
   ],
   "source": [
    "ukraine_tokens.similar('partner')"
   ]
  },
  {
   "cell_type": "markdown",
   "id": "114a54c7-5e98-43c0-bc39-217ef809e1bf",
   "metadata": {},
   "source": [
    "### Common Context"
   ]
  },
  {
   "cell_type": "code",
   "execution_count": 62,
   "id": "433b9523-7049-48e7-b6a8-1ae6cde872b3",
   "metadata": {},
   "outputs": [
    {
     "name": "stdout",
     "output_type": "stream",
     "text": [
      "ukraine_started fight_young knowledge_politics russian_year\n",
      "russian_putin\n"
     ]
    }
   ],
   "source": [
    "ukraine_tokens.common_contexts(['Ukrainian', 'War'])  "
   ]
  },
  {
   "cell_type": "markdown",
   "id": "80c5da1c-7afb-4e80-9cfc-66808a091657",
   "metadata": {},
   "source": [
    "## 2.4 Incorporating Time\n"
   ]
  },
  {
   "cell_type": "code",
   "execution_count": 63,
   "id": "e6865ab5-ef1d-4d1b-a55f-51cc0f8a405f",
   "metadata": {},
   "outputs": [
    {
     "data": {
      "text/plain": [
       "Timestamp('2008-04-08 05:21:54')"
      ]
     },
     "execution_count": 63,
     "metadata": {},
     "output_type": "execute_result"
    }
   ],
   "source": [
    "pd.to_datetime(1207632114, unit='s')"
   ]
  },
  {
   "cell_type": "code",
   "execution_count": 64,
   "id": "42b4b273-9f4a-4b76-81b8-fc108177b4a0",
   "metadata": {},
   "outputs": [
    {
     "data": {
      "text/html": [
       "<div>\n",
       "<style scoped>\n",
       "    .dataframe tbody tr th:only-of-type {\n",
       "        vertical-align: middle;\n",
       "    }\n",
       "\n",
       "    .dataframe tbody tr th {\n",
       "        vertical-align: top;\n",
       "    }\n",
       "\n",
       "    .dataframe thead th {\n",
       "        text-align: right;\n",
       "    }\n",
       "</style>\n",
       "<table border=\"1\" class=\"dataframe\">\n",
       "  <thead>\n",
       "    <tr style=\"text-align: right;\">\n",
       "      <th></th>\n",
       "      <th>idint</th>\n",
       "      <th>idstr</th>\n",
       "      <th>created</th>\n",
       "      <th>created_datetime</th>\n",
       "      <th>nsfw</th>\n",
       "      <th>author</th>\n",
       "      <th>title</th>\n",
       "      <th>selftext</th>\n",
       "      <th>lemmas</th>\n",
       "      <th>score</th>\n",
       "      <th>distinguish</th>\n",
       "      <th>textlen</th>\n",
       "      <th>num_comments</th>\n",
       "      <th>flair_text</th>\n",
       "      <th>flair_css_class</th>\n",
       "    </tr>\n",
       "  </thead>\n",
       "  <tbody>\n",
       "    <tr>\n",
       "      <th>0</th>\n",
       "      <td>26795140</td>\n",
       "      <td>t3_fyb9g</td>\n",
       "      <td>1299397232</td>\n",
       "      <td>2011-03-06 07:40:32</td>\n",
       "      <td>0</td>\n",
       "      <td>pozhaluista</td>\n",
       "      <td>Does the /r/ Ukraine have anyone here? Hello?</td>\n",
       "      <td>Seems quiet.</td>\n",
       "      <td>quiet</td>\n",
       "      <td>10</td>\n",
       "      <td>NaN</td>\n",
       "      <td>13</td>\n",
       "      <td>24</td>\n",
       "      <td>NaN</td>\n",
       "      <td>NaN</td>\n",
       "    </tr>\n",
       "    <tr>\n",
       "      <th>1</th>\n",
       "      <td>29482904</td>\n",
       "      <td>t3_hjx5k</td>\n",
       "      <td>1306343697</td>\n",
       "      <td>2011-05-25 17:14:57</td>\n",
       "      <td>0</td>\n",
       "      <td>visarun</td>\n",
       "      <td>Does immigration in Simferpol check whether th...</td>\n",
       "      <td>I have stayed 70 days and then 80 days out of ...</td>\n",
       "      <td>stayed days days days know borispol pretty str...</td>\n",
       "      <td>0</td>\n",
       "      <td>NaN</td>\n",
       "      <td>223</td>\n",
       "      <td>1</td>\n",
       "      <td>NaN</td>\n",
       "      <td>NaN</td>\n",
       "    </tr>\n",
       "    <tr>\n",
       "      <th>2</th>\n",
       "      <td>29608809</td>\n",
       "      <td>t3_hmmax</td>\n",
       "      <td>1306639850</td>\n",
       "      <td>2011-05-29 03:30:50</td>\n",
       "      <td>0</td>\n",
       "      <td>[deleted]</td>\n",
       "      <td>Tickets to Ukraine from Seoul?</td>\n",
       "      <td>Hi everyone.  I'd like to visit Ukraine for th...</td>\n",
       "      <td>hi like visit ukraine time looking cheap ticke...</td>\n",
       "      <td>2</td>\n",
       "      <td>NaN</td>\n",
       "      <td>281</td>\n",
       "      <td>0</td>\n",
       "      <td>NaN</td>\n",
       "      <td>NaN</td>\n",
       "    </tr>\n",
       "  </tbody>\n",
       "</table>\n",
       "</div>"
      ],
      "text/plain": [
       "      idint     idstr     created    created_datetime  nsfw       author  \\\n",
       "0  26795140  t3_fyb9g  1299397232 2011-03-06 07:40:32     0  pozhaluista   \n",
       "1  29482904  t3_hjx5k  1306343697 2011-05-25 17:14:57     0      visarun   \n",
       "2  29608809  t3_hmmax  1306639850 2011-05-29 03:30:50     0    [deleted]   \n",
       "\n",
       "                                               title  \\\n",
       "0      Does the /r/ Ukraine have anyone here? Hello?   \n",
       "1  Does immigration in Simferpol check whether th...   \n",
       "2                     Tickets to Ukraine from Seoul?   \n",
       "\n",
       "                                            selftext  \\\n",
       "0                                      Seems quiet.    \n",
       "1  I have stayed 70 days and then 80 days out of ...   \n",
       "2  Hi everyone.  I'd like to visit Ukraine for th...   \n",
       "\n",
       "                                              lemmas  score distinguish  \\\n",
       "0                                              quiet     10         NaN   \n",
       "1  stayed days days days know borispol pretty str...      0         NaN   \n",
       "2  hi like visit ukraine time looking cheap ticke...      2         NaN   \n",
       "\n",
       "   textlen  num_comments flair_text flair_css_class  \n",
       "0       13            24        NaN             NaN  \n",
       "1      223             1        NaN             NaN  \n",
       "2      281             0        NaN             NaN  "
      ]
     },
     "execution_count": 64,
     "metadata": {},
     "output_type": "execute_result"
    }
   ],
   "source": [
    "#new colum with date and time\n",
    "df.insert(loc=3, column='created_datetime', value=pd.to_datetime(df['created'], unit='s'))\n",
    "df.head(3)"
   ]
  },
  {
   "cell_type": "code",
   "execution_count": 65,
   "id": "40b11a55-d78a-4aed-8e17-76308450b9ae",
   "metadata": {},
   "outputs": [
    {
     "name": "stdout",
     "output_type": "stream",
     "text": [
      "Int64Index([2011, 2011, 2011, 2011, 2011, 2011, 2011, 2011, 2011, 2011,\n",
      "            ...\n",
      "            2022, 2022, 2022, 2022, 2022, 2022, 2022, 2022, 2022, 2022],\n",
      "           dtype='int64', name='created_datetime', length=12402)\n"
     ]
    }
   ],
   "source": [
    "#create new variables years\n",
    "years = pd.DatetimeIndex(df['created_datetime']).year\n",
    "print(years)"
   ]
  },
  {
   "cell_type": "code",
   "execution_count": 66,
   "id": "1b7d4a74-410f-47c7-8875-b467fa4a91ca",
   "metadata": {},
   "outputs": [
    {
     "data": {
      "text/html": [
       "<div>\n",
       "<style scoped>\n",
       "    .dataframe tbody tr th:only-of-type {\n",
       "        vertical-align: middle;\n",
       "    }\n",
       "\n",
       "    .dataframe tbody tr th {\n",
       "        vertical-align: top;\n",
       "    }\n",
       "\n",
       "    .dataframe thead th {\n",
       "        text-align: right;\n",
       "    }\n",
       "</style>\n",
       "<table border=\"1\" class=\"dataframe\">\n",
       "  <thead>\n",
       "    <tr style=\"text-align: right;\">\n",
       "      <th></th>\n",
       "      <th>idint</th>\n",
       "      <th>idstr</th>\n",
       "      <th>created</th>\n",
       "      <th>created_datetime</th>\n",
       "      <th>nsfw</th>\n",
       "      <th>author</th>\n",
       "      <th>title</th>\n",
       "      <th>selftext</th>\n",
       "      <th>lemmas</th>\n",
       "      <th>score</th>\n",
       "      <th>distinguish</th>\n",
       "      <th>textlen</th>\n",
       "      <th>num_comments</th>\n",
       "      <th>flair_text</th>\n",
       "      <th>flair_css_class</th>\n",
       "    </tr>\n",
       "  </thead>\n",
       "  <tbody>\n",
       "    <tr>\n",
       "      <th>0</th>\n",
       "      <td>26795140</td>\n",
       "      <td>t3_fyb9g</td>\n",
       "      <td>1299397232</td>\n",
       "      <td>2011-03-06 07:40:32</td>\n",
       "      <td>0</td>\n",
       "      <td>pozhaluista</td>\n",
       "      <td>Does the /r/ Ukraine have anyone here? Hello?</td>\n",
       "      <td>Seems quiet.</td>\n",
       "      <td>quiet</td>\n",
       "      <td>10</td>\n",
       "      <td>NaN</td>\n",
       "      <td>13</td>\n",
       "      <td>24</td>\n",
       "      <td>NaN</td>\n",
       "      <td>NaN</td>\n",
       "    </tr>\n",
       "    <tr>\n",
       "      <th>1</th>\n",
       "      <td>29482904</td>\n",
       "      <td>t3_hjx5k</td>\n",
       "      <td>1306343697</td>\n",
       "      <td>2011-05-25 17:14:57</td>\n",
       "      <td>0</td>\n",
       "      <td>visarun</td>\n",
       "      <td>Does immigration in Simferpol check whether th...</td>\n",
       "      <td>I have stayed 70 days and then 80 days out of ...</td>\n",
       "      <td>stayed days days days know borispol pretty str...</td>\n",
       "      <td>0</td>\n",
       "      <td>NaN</td>\n",
       "      <td>223</td>\n",
       "      <td>1</td>\n",
       "      <td>NaN</td>\n",
       "      <td>NaN</td>\n",
       "    </tr>\n",
       "    <tr>\n",
       "      <th>2</th>\n",
       "      <td>29608809</td>\n",
       "      <td>t3_hmmax</td>\n",
       "      <td>1306639850</td>\n",
       "      <td>2011-05-29 03:30:50</td>\n",
       "      <td>0</td>\n",
       "      <td>[deleted]</td>\n",
       "      <td>Tickets to Ukraine from Seoul?</td>\n",
       "      <td>Hi everyone.  I'd like to visit Ukraine for th...</td>\n",
       "      <td>hi like visit ukraine time looking cheap ticke...</td>\n",
       "      <td>2</td>\n",
       "      <td>NaN</td>\n",
       "      <td>281</td>\n",
       "      <td>0</td>\n",
       "      <td>NaN</td>\n",
       "      <td>NaN</td>\n",
       "    </tr>\n",
       "  </tbody>\n",
       "</table>\n",
       "</div>"
      ],
      "text/plain": [
       "      idint     idstr     created    created_datetime  nsfw       author  \\\n",
       "0  26795140  t3_fyb9g  1299397232 2011-03-06 07:40:32     0  pozhaluista   \n",
       "1  29482904  t3_hjx5k  1306343697 2011-05-25 17:14:57     0      visarun   \n",
       "2  29608809  t3_hmmax  1306639850 2011-05-29 03:30:50     0    [deleted]   \n",
       "\n",
       "                                               title  \\\n",
       "0      Does the /r/ Ukraine have anyone here? Hello?   \n",
       "1  Does immigration in Simferpol check whether th...   \n",
       "2                     Tickets to Ukraine from Seoul?   \n",
       "\n",
       "                                            selftext  \\\n",
       "0                                      Seems quiet.    \n",
       "1  I have stayed 70 days and then 80 days out of ...   \n",
       "2  Hi everyone.  I'd like to visit Ukraine for th...   \n",
       "\n",
       "                                              lemmas  score distinguish  \\\n",
       "0                                              quiet     10         NaN   \n",
       "1  stayed days days days know borispol pretty str...      0         NaN   \n",
       "2  hi like visit ukraine time looking cheap ticke...      2         NaN   \n",
       "\n",
       "   textlen  num_comments flair_text flair_css_class  \n",
       "0       13            24        NaN             NaN  \n",
       "1      223             1        NaN             NaN  \n",
       "2      281             0        NaN             NaN  "
      ]
     },
     "execution_count": 66,
     "metadata": {},
     "output_type": "execute_result"
    }
   ],
   "source": [
    "df.head(3)"
   ]
  },
  {
   "cell_type": "code",
   "execution_count": 67,
   "id": "07cc83cc-773d-449a-aad5-4d423341fc05",
   "metadata": {},
   "outputs": [
    {
     "data": {
      "text/plain": [
       "110"
      ]
     },
     "execution_count": 67,
     "metadata": {},
     "output_type": "execute_result"
    }
   ],
   "source": [
    "#before 2013\n",
    "df_2013 = df.loc[(years <= 2013), :]\n",
    "len(df_2013)"
   ]
  },
  {
   "cell_type": "code",
   "execution_count": 68,
   "id": "2a7e2499-fb0e-4281-964b-ea5ec09692a3",
   "metadata": {},
   "outputs": [
    {
     "data": {
      "text/plain": [
       "12292"
      ]
     },
     "execution_count": 68,
     "metadata": {},
     "output_type": "execute_result"
    }
   ],
   "source": [
    "#after 2013 & before 2022\n",
    "df_b2022 = df.loc[(years <= 2022) & (years >=2013), :]\n",
    "len(df_b2022)"
   ]
  },
  {
   "cell_type": "code",
   "execution_count": 69,
   "id": "b52fbef4-c3a8-4382-b987-bed7c22792b5",
   "metadata": {},
   "outputs": [
    {
     "data": {
      "text/plain": [
       "6900"
      ]
     },
     "execution_count": 69,
     "metadata": {},
     "output_type": "execute_result"
    }
   ],
   "source": [
    "#after 2022\n",
    "df_a2022 = df.loc[(years >= 2022), :]\n",
    "len(df_a2022)"
   ]
  },
  {
   "cell_type": "code",
   "execution_count": 77,
   "id": "bb87bb14-d9c3-457d-afd3-2ba399119c78",
   "metadata": {},
   "outputs": [
    {
     "ename": "ValueError",
     "evalue": "Length of Int64Index vectors must match length of `data` when both are used, but `data` has length 110 and the vector passed to `x` has length 12402.",
     "output_type": "error",
     "traceback": [
      "\u001b[0;31m---------------------------------------------------------------------------\u001b[0m",
      "\u001b[0;31mValueError\u001b[0m                                Traceback (most recent call last)",
      "Input \u001b[0;32mIn [77]\u001b[0m, in \u001b[0;36m<cell line: 9>\u001b[0;34m()\u001b[0m\n\u001b[1;32m      5\u001b[0m sns\u001b[38;5;241m.\u001b[39mset_theme()\n\u001b[1;32m      7\u001b[0m sns\u001b[38;5;241m.\u001b[39mset(rc\u001b[38;5;241m=\u001b[39m{\u001b[38;5;124m'\u001b[39m\u001b[38;5;124mfigure.figsize\u001b[39m\u001b[38;5;124m'\u001b[39m: (\u001b[38;5;241m7\u001b[39m, \u001b[38;5;241m5\u001b[39m)})\n\u001b[0;32m----> 9\u001b[0m p \u001b[38;5;241m=\u001b[39m \u001b[43msns\u001b[49m\u001b[38;5;241;43m.\u001b[39;49m\u001b[43mhistplot\u001b[49m\u001b[43m(\u001b[49m\n\u001b[1;32m     10\u001b[0m \u001b[43m    \u001b[49m\u001b[43mdata\u001b[49m\u001b[38;5;241;43m=\u001b[39;49m\u001b[43mdf_2013\u001b[49m\u001b[43m,\u001b[49m\n\u001b[1;32m     11\u001b[0m \u001b[43m    \u001b[49m\u001b[43mx\u001b[49m\u001b[38;5;241;43m=\u001b[39;49m\u001b[43myears\u001b[49m\u001b[43m,\u001b[49m\n\u001b[1;32m     12\u001b[0m \u001b[43m    \u001b[49m\u001b[43mhue\u001b[49m\u001b[38;5;241;43m=\u001b[39;49m\u001b[38;5;124;43m\"\u001b[39;49m\u001b[38;5;124;43mflair_css_class\u001b[39;49m\u001b[38;5;124;43m\"\u001b[39;49m\u001b[43m,\u001b[49m\n\u001b[1;32m     13\u001b[0m \u001b[43m    \u001b[49m\u001b[43mmultiple\u001b[49m\u001b[38;5;241;43m=\u001b[39;49m\u001b[38;5;124;43m\"\u001b[39;49m\u001b[38;5;124;43mstack\u001b[39;49m\u001b[38;5;124;43m\"\u001b[39;49m\u001b[43m)\u001b[49m\n\u001b[1;32m     15\u001b[0m plt\u001b[38;5;241m.\u001b[39mxticks(rotation\u001b[38;5;241m=\u001b[39m\u001b[38;5;241m70\u001b[39m)\n\u001b[1;32m     16\u001b[0m plt\u001b[38;5;241m.\u001b[39mtight_layout()\n",
      "File \u001b[0;32m/opt/conda/lib/python3.9/site-packages/seaborn/distributions.py:1430\u001b[0m, in \u001b[0;36mhistplot\u001b[0;34m(data, x, y, hue, weights, stat, bins, binwidth, binrange, discrete, cumulative, common_bins, common_norm, multiple, element, fill, shrink, kde, kde_kws, line_kws, thresh, pthresh, pmax, cbar, cbar_ax, cbar_kws, palette, hue_order, hue_norm, color, log_scale, legend, ax, **kwargs)\u001b[0m\n\u001b[1;32m   1409\u001b[0m \u001b[38;5;28;01mdef\u001b[39;00m \u001b[38;5;21mhistplot\u001b[39m(\n\u001b[1;32m   1410\u001b[0m     data\u001b[38;5;241m=\u001b[39m\u001b[38;5;28;01mNone\u001b[39;00m, \u001b[38;5;241m*\u001b[39m,\n\u001b[1;32m   1411\u001b[0m     \u001b[38;5;66;03m# Vector variables\u001b[39;00m\n\u001b[0;32m   (...)\u001b[0m\n\u001b[1;32m   1427\u001b[0m     \u001b[38;5;241m*\u001b[39m\u001b[38;5;241m*\u001b[39mkwargs,\n\u001b[1;32m   1428\u001b[0m ):\n\u001b[0;32m-> 1430\u001b[0m     p \u001b[38;5;241m=\u001b[39m \u001b[43m_DistributionPlotter\u001b[49m\u001b[43m(\u001b[49m\n\u001b[1;32m   1431\u001b[0m \u001b[43m        \u001b[49m\u001b[43mdata\u001b[49m\u001b[38;5;241;43m=\u001b[39;49m\u001b[43mdata\u001b[49m\u001b[43m,\u001b[49m\n\u001b[1;32m   1432\u001b[0m \u001b[43m        \u001b[49m\u001b[43mvariables\u001b[49m\u001b[38;5;241;43m=\u001b[39;49m\u001b[43m_DistributionPlotter\u001b[49m\u001b[38;5;241;43m.\u001b[39;49m\u001b[43mget_semantics\u001b[49m\u001b[43m(\u001b[49m\u001b[38;5;28;43mlocals\u001b[39;49m\u001b[43m(\u001b[49m\u001b[43m)\u001b[49m\u001b[43m)\u001b[49m\n\u001b[1;32m   1433\u001b[0m \u001b[43m    \u001b[49m\u001b[43m)\u001b[49m\n\u001b[1;32m   1435\u001b[0m     p\u001b[38;5;241m.\u001b[39mmap_hue(palette\u001b[38;5;241m=\u001b[39mpalette, order\u001b[38;5;241m=\u001b[39mhue_order, norm\u001b[38;5;241m=\u001b[39mhue_norm)\n\u001b[1;32m   1437\u001b[0m     \u001b[38;5;28;01mif\u001b[39;00m ax \u001b[38;5;129;01mis\u001b[39;00m \u001b[38;5;28;01mNone\u001b[39;00m:\n",
      "File \u001b[0;32m/opt/conda/lib/python3.9/site-packages/seaborn/distributions.py:111\u001b[0m, in \u001b[0;36m_DistributionPlotter.__init__\u001b[0;34m(self, data, variables)\u001b[0m\n\u001b[1;32m    105\u001b[0m \u001b[38;5;28;01mdef\u001b[39;00m \u001b[38;5;21m__init__\u001b[39m(\n\u001b[1;32m    106\u001b[0m     \u001b[38;5;28mself\u001b[39m,\n\u001b[1;32m    107\u001b[0m     data\u001b[38;5;241m=\u001b[39m\u001b[38;5;28;01mNone\u001b[39;00m,\n\u001b[1;32m    108\u001b[0m     variables\u001b[38;5;241m=\u001b[39m{},\n\u001b[1;32m    109\u001b[0m ):\n\u001b[0;32m--> 111\u001b[0m     \u001b[38;5;28;43msuper\u001b[39;49m\u001b[43m(\u001b[49m\u001b[43m)\u001b[49m\u001b[38;5;241;43m.\u001b[39;49m\u001b[38;5;21;43m__init__\u001b[39;49m\u001b[43m(\u001b[49m\u001b[43mdata\u001b[49m\u001b[38;5;241;43m=\u001b[39;49m\u001b[43mdata\u001b[49m\u001b[43m,\u001b[49m\u001b[43m \u001b[49m\u001b[43mvariables\u001b[49m\u001b[38;5;241;43m=\u001b[39;49m\u001b[43mvariables\u001b[49m\u001b[43m)\u001b[49m\n",
      "File \u001b[0;32m/opt/conda/lib/python3.9/site-packages/seaborn/_core.py:605\u001b[0m, in \u001b[0;36mVectorPlotter.__init__\u001b[0;34m(self, data, variables)\u001b[0m\n\u001b[1;32m    603\u001b[0m \u001b[38;5;28;01mdef\u001b[39;00m \u001b[38;5;21m__init__\u001b[39m(\u001b[38;5;28mself\u001b[39m, data\u001b[38;5;241m=\u001b[39m\u001b[38;5;28;01mNone\u001b[39;00m, variables\u001b[38;5;241m=\u001b[39m{}):\n\u001b[0;32m--> 605\u001b[0m     \u001b[38;5;28;43mself\u001b[39;49m\u001b[38;5;241;43m.\u001b[39;49m\u001b[43massign_variables\u001b[49m\u001b[43m(\u001b[49m\u001b[43mdata\u001b[49m\u001b[43m,\u001b[49m\u001b[43m \u001b[49m\u001b[43mvariables\u001b[49m\u001b[43m)\u001b[49m\n\u001b[1;32m    607\u001b[0m     \u001b[38;5;28;01mfor\u001b[39;00m var, \u001b[38;5;28mcls\u001b[39m \u001b[38;5;129;01min\u001b[39;00m \u001b[38;5;28mself\u001b[39m\u001b[38;5;241m.\u001b[39m_semantic_mappings\u001b[38;5;241m.\u001b[39mitems():\n\u001b[1;32m    608\u001b[0m \n\u001b[1;32m    609\u001b[0m         \u001b[38;5;66;03m# Create the mapping function\u001b[39;00m\n\u001b[1;32m    610\u001b[0m         map_func \u001b[38;5;241m=\u001b[39m partial(\u001b[38;5;28mcls\u001b[39m\u001b[38;5;241m.\u001b[39mmap, plotter\u001b[38;5;241m=\u001b[39m\u001b[38;5;28mself\u001b[39m)\n",
      "File \u001b[0;32m/opt/conda/lib/python3.9/site-packages/seaborn/_core.py:668\u001b[0m, in \u001b[0;36mVectorPlotter.assign_variables\u001b[0;34m(self, data, variables)\u001b[0m\n\u001b[1;32m    666\u001b[0m \u001b[38;5;28;01melse\u001b[39;00m:\n\u001b[1;32m    667\u001b[0m     \u001b[38;5;28mself\u001b[39m\u001b[38;5;241m.\u001b[39minput_format \u001b[38;5;241m=\u001b[39m \u001b[38;5;124m\"\u001b[39m\u001b[38;5;124mlong\u001b[39m\u001b[38;5;124m\"\u001b[39m\n\u001b[0;32m--> 668\u001b[0m     plot_data, variables \u001b[38;5;241m=\u001b[39m \u001b[38;5;28;43mself\u001b[39;49m\u001b[38;5;241;43m.\u001b[39;49m\u001b[43m_assign_variables_longform\u001b[49m\u001b[43m(\u001b[49m\n\u001b[1;32m    669\u001b[0m \u001b[43m        \u001b[49m\u001b[43mdata\u001b[49m\u001b[43m,\u001b[49m\u001b[43m \u001b[49m\u001b[38;5;241;43m*\u001b[39;49m\u001b[38;5;241;43m*\u001b[39;49m\u001b[43mvariables\u001b[49m\u001b[43m,\u001b[49m\n\u001b[1;32m    670\u001b[0m \u001b[43m    \u001b[49m\u001b[43m)\u001b[49m\n\u001b[1;32m    672\u001b[0m \u001b[38;5;28mself\u001b[39m\u001b[38;5;241m.\u001b[39mplot_data \u001b[38;5;241m=\u001b[39m plot_data\n\u001b[1;32m    673\u001b[0m \u001b[38;5;28mself\u001b[39m\u001b[38;5;241m.\u001b[39mvariables \u001b[38;5;241m=\u001b[39m variables\n",
      "File \u001b[0;32m/opt/conda/lib/python3.9/site-packages/seaborn/_core.py:918\u001b[0m, in \u001b[0;36mVectorPlotter._assign_variables_longform\u001b[0;34m(self, data, **kwargs)\u001b[0m\n\u001b[1;32m    912\u001b[0m         val_cls \u001b[38;5;241m=\u001b[39m val\u001b[38;5;241m.\u001b[39m\u001b[38;5;18m__class__\u001b[39m\u001b[38;5;241m.\u001b[39m\u001b[38;5;18m__name__\u001b[39m\n\u001b[1;32m    913\u001b[0m         err \u001b[38;5;241m=\u001b[39m (\n\u001b[1;32m    914\u001b[0m             \u001b[38;5;124mf\u001b[39m\u001b[38;5;124m\"\u001b[39m\u001b[38;5;124mLength of \u001b[39m\u001b[38;5;132;01m{\u001b[39;00mval_cls\u001b[38;5;132;01m}\u001b[39;00m\u001b[38;5;124m vectors must match length of `data`\u001b[39m\u001b[38;5;124m\"\u001b[39m\n\u001b[1;32m    915\u001b[0m             \u001b[38;5;124mf\u001b[39m\u001b[38;5;124m\"\u001b[39m\u001b[38;5;124m when both are used, but `data` has length \u001b[39m\u001b[38;5;132;01m{\u001b[39;00m\u001b[38;5;28mlen\u001b[39m(data)\u001b[38;5;132;01m}\u001b[39;00m\u001b[38;5;124m\"\u001b[39m\n\u001b[1;32m    916\u001b[0m             \u001b[38;5;124mf\u001b[39m\u001b[38;5;124m\"\u001b[39m\u001b[38;5;124m and the vector passed to `\u001b[39m\u001b[38;5;132;01m{\u001b[39;00mkey\u001b[38;5;132;01m}\u001b[39;00m\u001b[38;5;124m` has length \u001b[39m\u001b[38;5;132;01m{\u001b[39;00m\u001b[38;5;28mlen\u001b[39m(val)\u001b[38;5;132;01m}\u001b[39;00m\u001b[38;5;124m.\u001b[39m\u001b[38;5;124m\"\u001b[39m\n\u001b[1;32m    917\u001b[0m         )\n\u001b[0;32m--> 918\u001b[0m         \u001b[38;5;28;01mraise\u001b[39;00m \u001b[38;5;167;01mValueError\u001b[39;00m(err)\n\u001b[1;32m    920\u001b[0m plot_data[key] \u001b[38;5;241m=\u001b[39m val\n\u001b[1;32m    922\u001b[0m \u001b[38;5;66;03m# Try to infer the name of the variable\u001b[39;00m\n",
      "\u001b[0;31mValueError\u001b[0m: Length of Int64Index vectors must match length of `data` when both are used, but `data` has length 110 and the vector passed to `x` has length 12402."
     ]
    }
   ],
   "source": [
    "# visualize data ###3 different bars + normalized(count -> proportion)\n",
    "#before 2013\n",
    "import matplotlib.pyplot as plt\n",
    "import seaborn as sns\n",
    "sns.set_theme()\n",
    "\n",
    "sns.set(rc={'figure.figsize': (7, 5)})\n",
    "\n",
    "p = sns.histplot(\n",
    "    data=df_2013,\n",
    "    x=years,\n",
    "    hue=\"flair_css_class\",\n",
    "    multiple=\"stack\")\n",
    "\n",
    "plt.xticks(rotation=70)\n",
    "plt.tight_layout()"
   ]
  },
  {
   "cell_type": "code",
   "execution_count": null,
   "id": "eb1cc966-635e-4aa6-b3dc-77f854727fc7",
   "metadata": {},
   "outputs": [],
   "source": [
    "#after 2013 & before 2022\n",
    "import matplotlib.pyplot as plt\n",
    "import seaborn as sns\n",
    "sns.set_theme()\n",
    "\n",
    "sns.set(rc={'figure.figsize': (7, 5)})\n",
    "\n",
    "p = sns.histplot(\n",
    "    data=df_b2022,\n",
    "    x=years,\n",
    "    hue=\"flair_css_class\",\n",
    "    multiple=\"stack\")\n",
    "\n",
    "plt.xticks(rotation=70)\n",
    "plt.tight_layout()"
   ]
  },
  {
   "cell_type": "code",
   "execution_count": null,
   "id": "ba1d6c4e-de60-485d-a24b-823bedbdad79",
   "metadata": {},
   "outputs": [],
   "source": [
    "#after 2022\n",
    "import matplotlib.pyplot as plt\n",
    "import seaborn as sns\n",
    "sns.set_theme()\n",
    "\n",
    "sns.set(rc={'figure.figsize': (7, 5)})\n",
    "\n",
    "p = sns.histplot(\n",
    "    data=df_a2022,\n",
    "    x=years,\n",
    "    hue=\"flair_css_class\",\n",
    "    multiple=\"stack\")\n",
    "\n",
    "plt.xticks(rotation=70)\n",
    "plt.tight_layout()"
   ]
  },
  {
   "cell_type": "markdown",
   "id": "0eff5dd1",
   "metadata": {},
   "source": [
    "# Term Frequency-Inverse Document Frequency (TF-IDF)"
   ]
  },
  {
   "cell_type": "code",
   "execution_count": 71,
   "id": "e9cab95b",
   "metadata": {},
   "outputs": [],
   "source": [
    "aita = pd.read_csv('ukraine_lemmas.csv')"
   ]
  },
  {
   "cell_type": "code",
   "execution_count": 72,
   "id": "1f63fdb3-d057-4e2a-a861-e1d34c94281e",
   "metadata": {},
   "outputs": [],
   "source": [
    "from sklearn.feature_extraction.text import TfidfVectorizer\n",
    "\n",
    "# Settings that you use for count vectorizer will go here\n",
    "tfidf_vectorizer = TfidfVectorizer(max_df=0.85,\n",
    "                                   decode_error='ignore',\n",
    "                                   stop_words='english',\n",
    "                                   smooth_idf=True,\n",
    "                                   use_idf=True)\n",
    "\n",
    "# Fit and transform the texts\n",
    "tfidf = tfidf_vectorizer.fit_transform(aita['lemmas'])"
   ]
  },
  {
   "cell_type": "code",
   "execution_count": 73,
   "id": "fac033e5",
   "metadata": {},
   "outputs": [],
   "source": [
    "# Place TF-IDF values in a DataFrame\n",
    "df = pd.DataFrame(tfidf.todense(), columns=tfidf_vectorizer.get_feature_names_out().ravel())"
   ]
  },
  {
   "cell_type": "code",
   "execution_count": 74,
   "id": "5d01caf3",
   "metadata": {},
   "outputs": [
    {
     "data": {
      "text/html": [
       "<div>\n",
       "<style scoped>\n",
       "    .dataframe tbody tr th:only-of-type {\n",
       "        vertical-align: middle;\n",
       "    }\n",
       "\n",
       "    .dataframe tbody tr th {\n",
       "        vertical-align: top;\n",
       "    }\n",
       "\n",
       "    .dataframe thead th {\n",
       "        text-align: right;\n",
       "    }\n",
       "</style>\n",
       "<table border=\"1\" class=\"dataframe\">\n",
       "  <thead>\n",
       "    <tr style=\"text-align: right;\">\n",
       "      <th></th>\n",
       "      <th>00</th>\n",
       "      <th>000</th>\n",
       "      <th>00013962</th>\n",
       "      <th>000147123</th>\n",
       "      <th>000eur</th>\n",
       "      <th>000l</th>\n",
       "      <th>000tanks</th>\n",
       "      <th>000uah</th>\n",
       "      <th>000what</th>\n",
       "      <th>001</th>\n",
       "      <th>...</th>\n",
       "      <th>zwarich</th>\n",
       "      <th>zwarych</th>\n",
       "      <th>zwastika</th>\n",
       "      <th>zwinigarodka</th>\n",
       "      <th>zwmz5wila1i</th>\n",
       "      <th>zxrsnefzrzk81</th>\n",
       "      <th>zygres</th>\n",
       "      <th>zytnia</th>\n",
       "      <th>zz155uergki71</th>\n",
       "      <th>zzwhcfjv</th>\n",
       "    </tr>\n",
       "  </thead>\n",
       "  <tbody>\n",
       "    <tr>\n",
       "      <th>0</th>\n",
       "      <td>0.0</td>\n",
       "      <td>0.0</td>\n",
       "      <td>0.0</td>\n",
       "      <td>0.0</td>\n",
       "      <td>0.0</td>\n",
       "      <td>0.0</td>\n",
       "      <td>0.0</td>\n",
       "      <td>0.0</td>\n",
       "      <td>0.0</td>\n",
       "      <td>0.0</td>\n",
       "      <td>...</td>\n",
       "      <td>0.0</td>\n",
       "      <td>0.0</td>\n",
       "      <td>0.0</td>\n",
       "      <td>0.0</td>\n",
       "      <td>0.0</td>\n",
       "      <td>0.0</td>\n",
       "      <td>0.0</td>\n",
       "      <td>0.0</td>\n",
       "      <td>0.0</td>\n",
       "      <td>0.0</td>\n",
       "    </tr>\n",
       "    <tr>\n",
       "      <th>1</th>\n",
       "      <td>0.0</td>\n",
       "      <td>0.0</td>\n",
       "      <td>0.0</td>\n",
       "      <td>0.0</td>\n",
       "      <td>0.0</td>\n",
       "      <td>0.0</td>\n",
       "      <td>0.0</td>\n",
       "      <td>0.0</td>\n",
       "      <td>0.0</td>\n",
       "      <td>0.0</td>\n",
       "      <td>...</td>\n",
       "      <td>0.0</td>\n",
       "      <td>0.0</td>\n",
       "      <td>0.0</td>\n",
       "      <td>0.0</td>\n",
       "      <td>0.0</td>\n",
       "      <td>0.0</td>\n",
       "      <td>0.0</td>\n",
       "      <td>0.0</td>\n",
       "      <td>0.0</td>\n",
       "      <td>0.0</td>\n",
       "    </tr>\n",
       "    <tr>\n",
       "      <th>2</th>\n",
       "      <td>0.0</td>\n",
       "      <td>0.0</td>\n",
       "      <td>0.0</td>\n",
       "      <td>0.0</td>\n",
       "      <td>0.0</td>\n",
       "      <td>0.0</td>\n",
       "      <td>0.0</td>\n",
       "      <td>0.0</td>\n",
       "      <td>0.0</td>\n",
       "      <td>0.0</td>\n",
       "      <td>...</td>\n",
       "      <td>0.0</td>\n",
       "      <td>0.0</td>\n",
       "      <td>0.0</td>\n",
       "      <td>0.0</td>\n",
       "      <td>0.0</td>\n",
       "      <td>0.0</td>\n",
       "      <td>0.0</td>\n",
       "      <td>0.0</td>\n",
       "      <td>0.0</td>\n",
       "      <td>0.0</td>\n",
       "    </tr>\n",
       "    <tr>\n",
       "      <th>3</th>\n",
       "      <td>0.0</td>\n",
       "      <td>0.0</td>\n",
       "      <td>0.0</td>\n",
       "      <td>0.0</td>\n",
       "      <td>0.0</td>\n",
       "      <td>0.0</td>\n",
       "      <td>0.0</td>\n",
       "      <td>0.0</td>\n",
       "      <td>0.0</td>\n",
       "      <td>0.0</td>\n",
       "      <td>...</td>\n",
       "      <td>0.0</td>\n",
       "      <td>0.0</td>\n",
       "      <td>0.0</td>\n",
       "      <td>0.0</td>\n",
       "      <td>0.0</td>\n",
       "      <td>0.0</td>\n",
       "      <td>0.0</td>\n",
       "      <td>0.0</td>\n",
       "      <td>0.0</td>\n",
       "      <td>0.0</td>\n",
       "    </tr>\n",
       "    <tr>\n",
       "      <th>4</th>\n",
       "      <td>0.0</td>\n",
       "      <td>0.0</td>\n",
       "      <td>0.0</td>\n",
       "      <td>0.0</td>\n",
       "      <td>0.0</td>\n",
       "      <td>0.0</td>\n",
       "      <td>0.0</td>\n",
       "      <td>0.0</td>\n",
       "      <td>0.0</td>\n",
       "      <td>0.0</td>\n",
       "      <td>...</td>\n",
       "      <td>0.0</td>\n",
       "      <td>0.0</td>\n",
       "      <td>0.0</td>\n",
       "      <td>0.0</td>\n",
       "      <td>0.0</td>\n",
       "      <td>0.0</td>\n",
       "      <td>0.0</td>\n",
       "      <td>0.0</td>\n",
       "      <td>0.0</td>\n",
       "      <td>0.0</td>\n",
       "    </tr>\n",
       "    <tr>\n",
       "      <th>5</th>\n",
       "      <td>0.0</td>\n",
       "      <td>0.0</td>\n",
       "      <td>0.0</td>\n",
       "      <td>0.0</td>\n",
       "      <td>0.0</td>\n",
       "      <td>0.0</td>\n",
       "      <td>0.0</td>\n",
       "      <td>0.0</td>\n",
       "      <td>0.0</td>\n",
       "      <td>0.0</td>\n",
       "      <td>...</td>\n",
       "      <td>0.0</td>\n",
       "      <td>0.0</td>\n",
       "      <td>0.0</td>\n",
       "      <td>0.0</td>\n",
       "      <td>0.0</td>\n",
       "      <td>0.0</td>\n",
       "      <td>0.0</td>\n",
       "      <td>0.0</td>\n",
       "      <td>0.0</td>\n",
       "      <td>0.0</td>\n",
       "    </tr>\n",
       "    <tr>\n",
       "      <th>6</th>\n",
       "      <td>0.0</td>\n",
       "      <td>0.0</td>\n",
       "      <td>0.0</td>\n",
       "      <td>0.0</td>\n",
       "      <td>0.0</td>\n",
       "      <td>0.0</td>\n",
       "      <td>0.0</td>\n",
       "      <td>0.0</td>\n",
       "      <td>0.0</td>\n",
       "      <td>0.0</td>\n",
       "      <td>...</td>\n",
       "      <td>0.0</td>\n",
       "      <td>0.0</td>\n",
       "      <td>0.0</td>\n",
       "      <td>0.0</td>\n",
       "      <td>0.0</td>\n",
       "      <td>0.0</td>\n",
       "      <td>0.0</td>\n",
       "      <td>0.0</td>\n",
       "      <td>0.0</td>\n",
       "      <td>0.0</td>\n",
       "    </tr>\n",
       "    <tr>\n",
       "      <th>7</th>\n",
       "      <td>0.0</td>\n",
       "      <td>0.0</td>\n",
       "      <td>0.0</td>\n",
       "      <td>0.0</td>\n",
       "      <td>0.0</td>\n",
       "      <td>0.0</td>\n",
       "      <td>0.0</td>\n",
       "      <td>0.0</td>\n",
       "      <td>0.0</td>\n",
       "      <td>0.0</td>\n",
       "      <td>...</td>\n",
       "      <td>0.0</td>\n",
       "      <td>0.0</td>\n",
       "      <td>0.0</td>\n",
       "      <td>0.0</td>\n",
       "      <td>0.0</td>\n",
       "      <td>0.0</td>\n",
       "      <td>0.0</td>\n",
       "      <td>0.0</td>\n",
       "      <td>0.0</td>\n",
       "      <td>0.0</td>\n",
       "    </tr>\n",
       "    <tr>\n",
       "      <th>8</th>\n",
       "      <td>0.0</td>\n",
       "      <td>0.0</td>\n",
       "      <td>0.0</td>\n",
       "      <td>0.0</td>\n",
       "      <td>0.0</td>\n",
       "      <td>0.0</td>\n",
       "      <td>0.0</td>\n",
       "      <td>0.0</td>\n",
       "      <td>0.0</td>\n",
       "      <td>0.0</td>\n",
       "      <td>...</td>\n",
       "      <td>0.0</td>\n",
       "      <td>0.0</td>\n",
       "      <td>0.0</td>\n",
       "      <td>0.0</td>\n",
       "      <td>0.0</td>\n",
       "      <td>0.0</td>\n",
       "      <td>0.0</td>\n",
       "      <td>0.0</td>\n",
       "      <td>0.0</td>\n",
       "      <td>0.0</td>\n",
       "    </tr>\n",
       "    <tr>\n",
       "      <th>9</th>\n",
       "      <td>0.0</td>\n",
       "      <td>0.0</td>\n",
       "      <td>0.0</td>\n",
       "      <td>0.0</td>\n",
       "      <td>0.0</td>\n",
       "      <td>0.0</td>\n",
       "      <td>0.0</td>\n",
       "      <td>0.0</td>\n",
       "      <td>0.0</td>\n",
       "      <td>0.0</td>\n",
       "      <td>...</td>\n",
       "      <td>0.0</td>\n",
       "      <td>0.0</td>\n",
       "      <td>0.0</td>\n",
       "      <td>0.0</td>\n",
       "      <td>0.0</td>\n",
       "      <td>0.0</td>\n",
       "      <td>0.0</td>\n",
       "      <td>0.0</td>\n",
       "      <td>0.0</td>\n",
       "      <td>0.0</td>\n",
       "    </tr>\n",
       "    <tr>\n",
       "      <th>10</th>\n",
       "      <td>0.0</td>\n",
       "      <td>0.0</td>\n",
       "      <td>0.0</td>\n",
       "      <td>0.0</td>\n",
       "      <td>0.0</td>\n",
       "      <td>0.0</td>\n",
       "      <td>0.0</td>\n",
       "      <td>0.0</td>\n",
       "      <td>0.0</td>\n",
       "      <td>0.0</td>\n",
       "      <td>...</td>\n",
       "      <td>0.0</td>\n",
       "      <td>0.0</td>\n",
       "      <td>0.0</td>\n",
       "      <td>0.0</td>\n",
       "      <td>0.0</td>\n",
       "      <td>0.0</td>\n",
       "      <td>0.0</td>\n",
       "      <td>0.0</td>\n",
       "      <td>0.0</td>\n",
       "      <td>0.0</td>\n",
       "    </tr>\n",
       "    <tr>\n",
       "      <th>11</th>\n",
       "      <td>0.0</td>\n",
       "      <td>0.0</td>\n",
       "      <td>0.0</td>\n",
       "      <td>0.0</td>\n",
       "      <td>0.0</td>\n",
       "      <td>0.0</td>\n",
       "      <td>0.0</td>\n",
       "      <td>0.0</td>\n",
       "      <td>0.0</td>\n",
       "      <td>0.0</td>\n",
       "      <td>...</td>\n",
       "      <td>0.0</td>\n",
       "      <td>0.0</td>\n",
       "      <td>0.0</td>\n",
       "      <td>0.0</td>\n",
       "      <td>0.0</td>\n",
       "      <td>0.0</td>\n",
       "      <td>0.0</td>\n",
       "      <td>0.0</td>\n",
       "      <td>0.0</td>\n",
       "      <td>0.0</td>\n",
       "    </tr>\n",
       "    <tr>\n",
       "      <th>12</th>\n",
       "      <td>0.0</td>\n",
       "      <td>0.0</td>\n",
       "      <td>0.0</td>\n",
       "      <td>0.0</td>\n",
       "      <td>0.0</td>\n",
       "      <td>0.0</td>\n",
       "      <td>0.0</td>\n",
       "      <td>0.0</td>\n",
       "      <td>0.0</td>\n",
       "      <td>0.0</td>\n",
       "      <td>...</td>\n",
       "      <td>0.0</td>\n",
       "      <td>0.0</td>\n",
       "      <td>0.0</td>\n",
       "      <td>0.0</td>\n",
       "      <td>0.0</td>\n",
       "      <td>0.0</td>\n",
       "      <td>0.0</td>\n",
       "      <td>0.0</td>\n",
       "      <td>0.0</td>\n",
       "      <td>0.0</td>\n",
       "    </tr>\n",
       "    <tr>\n",
       "      <th>13</th>\n",
       "      <td>0.0</td>\n",
       "      <td>0.0</td>\n",
       "      <td>0.0</td>\n",
       "      <td>0.0</td>\n",
       "      <td>0.0</td>\n",
       "      <td>0.0</td>\n",
       "      <td>0.0</td>\n",
       "      <td>0.0</td>\n",
       "      <td>0.0</td>\n",
       "      <td>0.0</td>\n",
       "      <td>...</td>\n",
       "      <td>0.0</td>\n",
       "      <td>0.0</td>\n",
       "      <td>0.0</td>\n",
       "      <td>0.0</td>\n",
       "      <td>0.0</td>\n",
       "      <td>0.0</td>\n",
       "      <td>0.0</td>\n",
       "      <td>0.0</td>\n",
       "      <td>0.0</td>\n",
       "      <td>0.0</td>\n",
       "    </tr>\n",
       "    <tr>\n",
       "      <th>14</th>\n",
       "      <td>0.0</td>\n",
       "      <td>0.0</td>\n",
       "      <td>0.0</td>\n",
       "      <td>0.0</td>\n",
       "      <td>0.0</td>\n",
       "      <td>0.0</td>\n",
       "      <td>0.0</td>\n",
       "      <td>0.0</td>\n",
       "      <td>0.0</td>\n",
       "      <td>0.0</td>\n",
       "      <td>...</td>\n",
       "      <td>0.0</td>\n",
       "      <td>0.0</td>\n",
       "      <td>0.0</td>\n",
       "      <td>0.0</td>\n",
       "      <td>0.0</td>\n",
       "      <td>0.0</td>\n",
       "      <td>0.0</td>\n",
       "      <td>0.0</td>\n",
       "      <td>0.0</td>\n",
       "      <td>0.0</td>\n",
       "    </tr>\n",
       "    <tr>\n",
       "      <th>15</th>\n",
       "      <td>0.0</td>\n",
       "      <td>0.0</td>\n",
       "      <td>0.0</td>\n",
       "      <td>0.0</td>\n",
       "      <td>0.0</td>\n",
       "      <td>0.0</td>\n",
       "      <td>0.0</td>\n",
       "      <td>0.0</td>\n",
       "      <td>0.0</td>\n",
       "      <td>0.0</td>\n",
       "      <td>...</td>\n",
       "      <td>0.0</td>\n",
       "      <td>0.0</td>\n",
       "      <td>0.0</td>\n",
       "      <td>0.0</td>\n",
       "      <td>0.0</td>\n",
       "      <td>0.0</td>\n",
       "      <td>0.0</td>\n",
       "      <td>0.0</td>\n",
       "      <td>0.0</td>\n",
       "      <td>0.0</td>\n",
       "    </tr>\n",
       "    <tr>\n",
       "      <th>16</th>\n",
       "      <td>0.0</td>\n",
       "      <td>0.0</td>\n",
       "      <td>0.0</td>\n",
       "      <td>0.0</td>\n",
       "      <td>0.0</td>\n",
       "      <td>0.0</td>\n",
       "      <td>0.0</td>\n",
       "      <td>0.0</td>\n",
       "      <td>0.0</td>\n",
       "      <td>0.0</td>\n",
       "      <td>...</td>\n",
       "      <td>0.0</td>\n",
       "      <td>0.0</td>\n",
       "      <td>0.0</td>\n",
       "      <td>0.0</td>\n",
       "      <td>0.0</td>\n",
       "      <td>0.0</td>\n",
       "      <td>0.0</td>\n",
       "      <td>0.0</td>\n",
       "      <td>0.0</td>\n",
       "      <td>0.0</td>\n",
       "    </tr>\n",
       "    <tr>\n",
       "      <th>17</th>\n",
       "      <td>0.0</td>\n",
       "      <td>0.0</td>\n",
       "      <td>0.0</td>\n",
       "      <td>0.0</td>\n",
       "      <td>0.0</td>\n",
       "      <td>0.0</td>\n",
       "      <td>0.0</td>\n",
       "      <td>0.0</td>\n",
       "      <td>0.0</td>\n",
       "      <td>0.0</td>\n",
       "      <td>...</td>\n",
       "      <td>0.0</td>\n",
       "      <td>0.0</td>\n",
       "      <td>0.0</td>\n",
       "      <td>0.0</td>\n",
       "      <td>0.0</td>\n",
       "      <td>0.0</td>\n",
       "      <td>0.0</td>\n",
       "      <td>0.0</td>\n",
       "      <td>0.0</td>\n",
       "      <td>0.0</td>\n",
       "    </tr>\n",
       "    <tr>\n",
       "      <th>18</th>\n",
       "      <td>0.0</td>\n",
       "      <td>0.0</td>\n",
       "      <td>0.0</td>\n",
       "      <td>0.0</td>\n",
       "      <td>0.0</td>\n",
       "      <td>0.0</td>\n",
       "      <td>0.0</td>\n",
       "      <td>0.0</td>\n",
       "      <td>0.0</td>\n",
       "      <td>0.0</td>\n",
       "      <td>...</td>\n",
       "      <td>0.0</td>\n",
       "      <td>0.0</td>\n",
       "      <td>0.0</td>\n",
       "      <td>0.0</td>\n",
       "      <td>0.0</td>\n",
       "      <td>0.0</td>\n",
       "      <td>0.0</td>\n",
       "      <td>0.0</td>\n",
       "      <td>0.0</td>\n",
       "      <td>0.0</td>\n",
       "    </tr>\n",
       "    <tr>\n",
       "      <th>19</th>\n",
       "      <td>0.0</td>\n",
       "      <td>0.0</td>\n",
       "      <td>0.0</td>\n",
       "      <td>0.0</td>\n",
       "      <td>0.0</td>\n",
       "      <td>0.0</td>\n",
       "      <td>0.0</td>\n",
       "      <td>0.0</td>\n",
       "      <td>0.0</td>\n",
       "      <td>0.0</td>\n",
       "      <td>...</td>\n",
       "      <td>0.0</td>\n",
       "      <td>0.0</td>\n",
       "      <td>0.0</td>\n",
       "      <td>0.0</td>\n",
       "      <td>0.0</td>\n",
       "      <td>0.0</td>\n",
       "      <td>0.0</td>\n",
       "      <td>0.0</td>\n",
       "      <td>0.0</td>\n",
       "      <td>0.0</td>\n",
       "    </tr>\n",
       "  </tbody>\n",
       "</table>\n",
       "<p>20 rows × 37946 columns</p>\n",
       "</div>"
      ],
      "text/plain": [
       "     00  000  00013962  000147123  000eur  000l  000tanks  000uah  000what  \\\n",
       "0   0.0  0.0       0.0        0.0     0.0   0.0       0.0     0.0      0.0   \n",
       "1   0.0  0.0       0.0        0.0     0.0   0.0       0.0     0.0      0.0   \n",
       "2   0.0  0.0       0.0        0.0     0.0   0.0       0.0     0.0      0.0   \n",
       "3   0.0  0.0       0.0        0.0     0.0   0.0       0.0     0.0      0.0   \n",
       "4   0.0  0.0       0.0        0.0     0.0   0.0       0.0     0.0      0.0   \n",
       "5   0.0  0.0       0.0        0.0     0.0   0.0       0.0     0.0      0.0   \n",
       "6   0.0  0.0       0.0        0.0     0.0   0.0       0.0     0.0      0.0   \n",
       "7   0.0  0.0       0.0        0.0     0.0   0.0       0.0     0.0      0.0   \n",
       "8   0.0  0.0       0.0        0.0     0.0   0.0       0.0     0.0      0.0   \n",
       "9   0.0  0.0       0.0        0.0     0.0   0.0       0.0     0.0      0.0   \n",
       "10  0.0  0.0       0.0        0.0     0.0   0.0       0.0     0.0      0.0   \n",
       "11  0.0  0.0       0.0        0.0     0.0   0.0       0.0     0.0      0.0   \n",
       "12  0.0  0.0       0.0        0.0     0.0   0.0       0.0     0.0      0.0   \n",
       "13  0.0  0.0       0.0        0.0     0.0   0.0       0.0     0.0      0.0   \n",
       "14  0.0  0.0       0.0        0.0     0.0   0.0       0.0     0.0      0.0   \n",
       "15  0.0  0.0       0.0        0.0     0.0   0.0       0.0     0.0      0.0   \n",
       "16  0.0  0.0       0.0        0.0     0.0   0.0       0.0     0.0      0.0   \n",
       "17  0.0  0.0       0.0        0.0     0.0   0.0       0.0     0.0      0.0   \n",
       "18  0.0  0.0       0.0        0.0     0.0   0.0       0.0     0.0      0.0   \n",
       "19  0.0  0.0       0.0        0.0     0.0   0.0       0.0     0.0      0.0   \n",
       "\n",
       "    001  ...  zwarich  zwarych  zwastika  zwinigarodka  zwmz5wila1i  \\\n",
       "0   0.0  ...      0.0      0.0       0.0           0.0          0.0   \n",
       "1   0.0  ...      0.0      0.0       0.0           0.0          0.0   \n",
       "2   0.0  ...      0.0      0.0       0.0           0.0          0.0   \n",
       "3   0.0  ...      0.0      0.0       0.0           0.0          0.0   \n",
       "4   0.0  ...      0.0      0.0       0.0           0.0          0.0   \n",
       "5   0.0  ...      0.0      0.0       0.0           0.0          0.0   \n",
       "6   0.0  ...      0.0      0.0       0.0           0.0          0.0   \n",
       "7   0.0  ...      0.0      0.0       0.0           0.0          0.0   \n",
       "8   0.0  ...      0.0      0.0       0.0           0.0          0.0   \n",
       "9   0.0  ...      0.0      0.0       0.0           0.0          0.0   \n",
       "10  0.0  ...      0.0      0.0       0.0           0.0          0.0   \n",
       "11  0.0  ...      0.0      0.0       0.0           0.0          0.0   \n",
       "12  0.0  ...      0.0      0.0       0.0           0.0          0.0   \n",
       "13  0.0  ...      0.0      0.0       0.0           0.0          0.0   \n",
       "14  0.0  ...      0.0      0.0       0.0           0.0          0.0   \n",
       "15  0.0  ...      0.0      0.0       0.0           0.0          0.0   \n",
       "16  0.0  ...      0.0      0.0       0.0           0.0          0.0   \n",
       "17  0.0  ...      0.0      0.0       0.0           0.0          0.0   \n",
       "18  0.0  ...      0.0      0.0       0.0           0.0          0.0   \n",
       "19  0.0  ...      0.0      0.0       0.0           0.0          0.0   \n",
       "\n",
       "    zxrsnefzrzk81  zygres  zytnia  zz155uergki71  zzwhcfjv  \n",
       "0             0.0     0.0     0.0            0.0       0.0  \n",
       "1             0.0     0.0     0.0            0.0       0.0  \n",
       "2             0.0     0.0     0.0            0.0       0.0  \n",
       "3             0.0     0.0     0.0            0.0       0.0  \n",
       "4             0.0     0.0     0.0            0.0       0.0  \n",
       "5             0.0     0.0     0.0            0.0       0.0  \n",
       "6             0.0     0.0     0.0            0.0       0.0  \n",
       "7             0.0     0.0     0.0            0.0       0.0  \n",
       "8             0.0     0.0     0.0            0.0       0.0  \n",
       "9             0.0     0.0     0.0            0.0       0.0  \n",
       "10            0.0     0.0     0.0            0.0       0.0  \n",
       "11            0.0     0.0     0.0            0.0       0.0  \n",
       "12            0.0     0.0     0.0            0.0       0.0  \n",
       "13            0.0     0.0     0.0            0.0       0.0  \n",
       "14            0.0     0.0     0.0            0.0       0.0  \n",
       "15            0.0     0.0     0.0            0.0       0.0  \n",
       "16            0.0     0.0     0.0            0.0       0.0  \n",
       "17            0.0     0.0     0.0            0.0       0.0  \n",
       "18            0.0     0.0     0.0            0.0       0.0  \n",
       "19            0.0     0.0     0.0            0.0       0.0  \n",
       "\n",
       "[20 rows x 37946 columns]"
      ]
     },
     "execution_count": 74,
     "metadata": {},
     "output_type": "execute_result"
    }
   ],
   "source": [
    "df.head(20)"
   ]
  },
  {
   "cell_type": "code",
   "execution_count": 76,
   "id": "f8a5c335-29e5-43c2-bee3-397c3d54c67f",
   "metadata": {},
   "outputs": [
    {
     "ename": "AttributeError",
     "evalue": "'DataFrame' object has no attribute 'argmax'",
     "output_type": "error",
     "traceback": [
      "\u001b[0;31m---------------------------------------------------------------------------\u001b[0m",
      "\u001b[0;31mAttributeError\u001b[0m                            Traceback (most recent call last)",
      "Input \u001b[0;32mIn [76]\u001b[0m, in \u001b[0;36m<cell line: 2>\u001b[0;34m()\u001b[0m\n\u001b[1;32m      1\u001b[0m \u001b[38;5;66;03m# highest \"average\" TF-IDF across documents\u001b[39;00m\n\u001b[0;32m----> 2\u001b[0m \u001b[43mdf\u001b[49m\u001b[38;5;241;43m.\u001b[39;49m\u001b[43margmax\u001b[49m(axis\u001b[38;5;241m=\u001b[39m\u001b[38;5;241m1\u001b[39m)\n",
      "File \u001b[0;32m/opt/conda/lib/python3.9/site-packages/pandas/core/generic.py:5487\u001b[0m, in \u001b[0;36mNDFrame.__getattr__\u001b[0;34m(self, name)\u001b[0m\n\u001b[1;32m   5480\u001b[0m \u001b[38;5;28;01mif\u001b[39;00m (\n\u001b[1;32m   5481\u001b[0m     name \u001b[38;5;129;01mnot\u001b[39;00m \u001b[38;5;129;01min\u001b[39;00m \u001b[38;5;28mself\u001b[39m\u001b[38;5;241m.\u001b[39m_internal_names_set\n\u001b[1;32m   5482\u001b[0m     \u001b[38;5;129;01mand\u001b[39;00m name \u001b[38;5;129;01mnot\u001b[39;00m \u001b[38;5;129;01min\u001b[39;00m \u001b[38;5;28mself\u001b[39m\u001b[38;5;241m.\u001b[39m_metadata\n\u001b[1;32m   5483\u001b[0m     \u001b[38;5;129;01mand\u001b[39;00m name \u001b[38;5;129;01mnot\u001b[39;00m \u001b[38;5;129;01min\u001b[39;00m \u001b[38;5;28mself\u001b[39m\u001b[38;5;241m.\u001b[39m_accessors\n\u001b[1;32m   5484\u001b[0m     \u001b[38;5;129;01mand\u001b[39;00m \u001b[38;5;28mself\u001b[39m\u001b[38;5;241m.\u001b[39m_info_axis\u001b[38;5;241m.\u001b[39m_can_hold_identifiers_and_holds_name(name)\n\u001b[1;32m   5485\u001b[0m ):\n\u001b[1;32m   5486\u001b[0m     \u001b[38;5;28;01mreturn\u001b[39;00m \u001b[38;5;28mself\u001b[39m[name]\n\u001b[0;32m-> 5487\u001b[0m \u001b[38;5;28;01mreturn\u001b[39;00m \u001b[38;5;28;43mobject\u001b[39;49m\u001b[38;5;241;43m.\u001b[39;49m\u001b[38;5;21;43m__getattribute__\u001b[39;49m\u001b[43m(\u001b[49m\u001b[38;5;28;43mself\u001b[39;49m\u001b[43m,\u001b[49m\u001b[43m \u001b[49m\u001b[43mname\u001b[49m\u001b[43m)\u001b[49m\n",
      "\u001b[0;31mAttributeError\u001b[0m: 'DataFrame' object has no attribute 'argmax'"
     ]
    }
   ],
   "source": [
    "# highest \"average\" TF-IDF across documents\n",
    "df.argmax(axis=1)"
   ]
  },
  {
   "cell_type": "markdown",
   "id": "eb3d3b7c",
   "metadata": {},
   "source": [
    "# Using TF-IDF to find Similar Posts"
   ]
  },
  {
   "cell_type": "code",
   "execution_count": null,
   "id": "85ad5cee",
   "metadata": {},
   "outputs": [],
   "source": [
    "doc_idx = 25"
   ]
  },
  {
   "cell_type": "code",
   "execution_count": null,
   "id": "ced8585b",
   "metadata": {},
   "outputs": [],
   "source": [
    "aita['selftext'].iloc[doc_idx]"
   ]
  },
  {
   "cell_type": "code",
   "execution_count": null,
   "id": "52d57e41",
   "metadata": {},
   "outputs": [],
   "source": [
    "df.loc[doc_idx].sort_values(ascending=False)"
   ]
  },
  {
   "cell_type": "code",
   "execution_count": null,
   "id": "919a7781",
   "metadata": {},
   "outputs": [],
   "source": [
    "from sklearn.metrics.pairwise import cosine_similarity\n",
    "similarities = cosine_similarity(tfidf)\n",
    "similarities.shape"
   ]
  },
  {
   "cell_type": "code",
   "execution_count": null,
   "id": "3575a549",
   "metadata": {},
   "outputs": [],
   "source": [
    "similar_df = pd.DataFrame({\n",
    "    'text': aita['selftext'].values,\n",
    "    'score': similarities[doc_idx]}).sort_values('score', ascending=False)"
   ]
  },
  {
   "cell_type": "code",
   "execution_count": null,
   "id": "d21649cf",
   "metadata": {},
   "outputs": [],
   "source": [
    "similar_df['text'].iloc[0]"
   ]
  },
  {
   "cell_type": "code",
   "execution_count": null,
   "id": "27d80b55",
   "metadata": {
    "tags": []
   },
   "outputs": [],
   "source": [
    "similar_df['text'].iloc[1]"
   ]
  },
  {
   "cell_type": "code",
   "execution_count": null,
   "id": "65c289a6",
   "metadata": {},
   "outputs": [],
   "source": [
    "similar_df['text'].iloc[2]"
   ]
  },
  {
   "cell_type": "code",
   "execution_count": null,
   "id": "8c2942d4",
   "metadata": {},
   "outputs": [],
   "source": []
  },
  {
   "cell_type": "code",
   "execution_count": null,
   "id": "9d6042b5-71f9-40f0-b895-dde4d2ed931d",
   "metadata": {},
   "outputs": [],
   "source": []
  }
 ],
 "metadata": {
  "kernelspec": {
   "display_name": "Python 3 (ipykernel)",
   "language": "python",
   "name": "python3"
  },
  "language_info": {
   "codemirror_mode": {
    "name": "ipython",
    "version": 3
   },
   "file_extension": ".py",
   "mimetype": "text/x-python",
   "name": "python",
   "nbconvert_exporter": "python",
   "pygments_lexer": "ipython3",
   "version": "3.9.13"
  }
 },
 "nbformat": 4,
 "nbformat_minor": 5
}
